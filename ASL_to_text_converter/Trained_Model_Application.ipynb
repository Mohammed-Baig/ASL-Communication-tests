{
  "nbformat": 4,
  "nbformat_minor": 0,
  "metadata": {
    "colab": {
      "name": "Trained Model Application.ipynb",
      "provenance": [],
      "authorship_tag": "ABX9TyM71mU1qaSYQQoL2yS7VBXk",
      "include_colab_link": true
    },
    "kernelspec": {
      "name": "python3",
      "display_name": "Python 3"
    },
    "language_info": {
      "name": "python"
    }
  },
  "cells": [
    {
      "cell_type": "markdown",
      "metadata": {
        "id": "view-in-github",
        "colab_type": "text"
      },
      "source": [
        "<a href=\"https://colab.research.google.com/github/Mohammed-Baig/ASL-Communication-tests/blob/main/ASL_to_text_converter/Trained_Model_Application.ipynb\" target=\"_parent\"><img src=\"https://colab.research.google.com/assets/colab-badge.svg\" alt=\"Open In Colab\"/></a>"
      ]
    },
    {
      "cell_type": "code",
      "metadata": {
        "id": "T-x9cGhEfKvK"
      },
      "source": [
        "import cv2\n",
        "import numpy as np\n",
        "import matplotlib.pyplot as plt"
      ],
      "execution_count": 1,
      "outputs": []
    },
    {
      "cell_type": "code",
      "metadata": {
        "id": "GLIK65CyfgYD"
      },
      "source": [
        "net = cv2.dnn.readNetFromDarknet(\"MODEL\",r\"PATH TO WEIGHTS FILE\")"
      ],
      "execution_count": null,
      "outputs": []
    },
    {
      "cell_type": "code",
      "metadata": {
        "id": "Jum0FW63fihC"
      },
      "source": [
        "classes = ['CLASS1, CLASS2, etc...']"
      ],
      "execution_count": 3,
      "outputs": []
    },
    {
      "cell_type": "code",
      "metadata": {
        "id": "93rGEVTLflwd"
      },
      "source": [
        "cap = cv2.VideoCapture(0)\n",
        "\n",
        "while 1:\n",
        "    _, img = cap.read()\n",
        "    img = cv2.resize(img,(1280,720))\n",
        "    hight,width,_ = img.shape\n",
        "    blob = cv2.dnn.blobFromImage(img, 1/255,(416,416),(0,0,0),swapRB = True,crop= False)\n",
        "\n",
        "    net.setInput(blob)\n",
        "\n",
        "    output_layers_name = net.getUnconnectedOutLayersNames()\n",
        "\n",
        "    layerOutputs = net.forward(output_layers_name)\n",
        "\n",
        "    boxes =[]\n",
        "    confidences = []\n",
        "    class_ids = []\n",
        "\n",
        "    for output in layerOutputs:\n",
        "        for detection in output:\n",
        "            score = detection[5:]\n",
        "            class_id = np.argmax(score)\n",
        "            confidence = score[class_id]\n",
        "            if confidence > 0.7:\n",
        "                center_x = int(detection[0] * width)\n",
        "                center_y = int(detection[1] * hight)\n",
        "                w = int(detection[2] * width)\n",
        "                h = int(detection[3]* hight)\n",
        "                x = int(center_x - w/2)\n",
        "                y = int(center_y - h/2)\n",
        "                boxes.append([x,y,w,h])\n",
        "                confidences.append((float(confidence)))\n",
        "                class_ids.append(class_id)\n",
        "\n",
        "\n",
        "    indexes = cv2.dnn.NMSBoxes(boxes,confidences,.5,.4)\n",
        "\n",
        "    boxes =[]\n",
        "    confidences = []\n",
        "    class_ids = []\n",
        "\n",
        "    for output in layerOutputs:\n",
        "        for detection in output:\n",
        "            score = detection[5:]\n",
        "            class_id = np.argmax(score)\n",
        "            confidence = score[class_id]\n",
        "            if confidence > 0.5:\n",
        "                center_x = int(detection[0] * width)\n",
        "                center_y = int(detection[1] * hight)\n",
        "                w = int(detection[2] * width)\n",
        "                h = int(detection[3]* hight)\n",
        "\n",
        "                x = int(center_x - w/2)\n",
        "                y = int(center_y - h/2)\n",
        "\n",
        "\n",
        "\n",
        "                boxes.append([x,y,w,h])\n",
        "                confidences.append((float(confidence)))\n",
        "                class_ids.append(class_id)\n",
        "\n",
        "    indexes = cv2.dnn.NMSBoxes(boxes,confidences,.8,.4)\n",
        "    font = cv2.FONT_HERSHEY_PLAIN\n",
        "    colors = np.random.uniform(0,255,size =(len(boxes),3))\n",
        "    if  len(indexes)>0:\n",
        "        for i in indexes.flatten():\n",
        "            x,y,w,h = boxes[i]\n",
        "            label = str(classes[class_ids[i]])\n",
        "            confidence = str(round(confidences[i],2))\n",
        "            color = colors[i]\n",
        "            cv2.rectangle(img,(x,y),(x+w,y+h),color,2)\n",
        "            cv2.putText(img,label + \" \" + confidence, (x,y+400),font,2,color,2)\n",
        "\n",
        "    cv2.imshow('img',img)\n",
        "    if cv2.waitKey(1) == ord('q'):\n",
        "        break\n",
        "    \n",
        "cap.release()\n",
        "cv2.destroyAllWindows()"
      ],
      "execution_count": null,
      "outputs": []
    }
  ]
}