{
  "nbformat": 4,
  "nbformat_minor": 0,
  "metadata": {
    "colab": {
      "name": "Object_custom_detection",
      "provenance": [],
      "collapsed_sections": [],
      "authorship_tag": "ABX9TyNxpiqYvZifF62Rsr2WWymW",
      "include_colab_link": true
    },
    "kernelspec": {
      "name": "python3",
      "display_name": "Python 3"
    },
    "language_info": {
      "name": "python"
    },
    "accelerator": "GPU"
  },
  "cells": [
    {
      "cell_type": "markdown",
      "metadata": {
        "id": "view-in-github",
        "colab_type": "text"
      },
      "source": [
        "<a href=\"https://colab.research.google.com/github/Mohammed-Baig/ASL-Communication-tests/blob/main/ASL_to_text_converter/Object_custom_detection.ipynb\" target=\"_parent\"><img src=\"https://colab.research.google.com/assets/colab-badge.svg\" alt=\"Open In Colab\"/></a>"
      ]
    },
    {
      "cell_type": "code",
      "metadata": {
        "id": "sA-Z31JPEsjk",
        "colab": {
          "base_uri": "https://localhost:8080/"
        },
        "outputId": "675722a7-1ce7-481c-c47e-831c9d6b6066"
      },
      "source": [
        "from google.colab import drive\n",
        "drive.mount('/content/drive')"
      ],
      "execution_count": null,
      "outputs": [
        {
          "output_type": "stream",
          "text": [
            "Mounted at /content/drive\n"
          ],
          "name": "stdout"
        }
      ]
    },
    {
      "cell_type": "code",
      "metadata": {
        "colab": {
          "base_uri": "https://localhost:8080/"
        },
        "id": "nVbULSGJBqcX",
        "outputId": "41ded064-f308-46e3-ce23-d84925807862"
      },
      "source": [
        "!ls '/content/drive/My Drive/yolo_custom_model_Training'"
      ],
      "execution_count": 40,
      "outputs": [
        {
          "output_type": "stream",
          "text": [
            " autobot_dataset  'Autobot dataset.zip'   backup   custom_weight   Darknet\n"
          ],
          "name": "stdout"
        }
      ]
    },
    {
      "cell_type": "code",
      "metadata": {
        "colab": {
          "base_uri": "https://localhost:8080/"
        },
        "id": "D0-b0hK-IWVB",
        "outputId": "a8f1f967-ba30-4c89-973a-bd944760c0dc"
      },
      "source": [
        "%cd /content/drive/My Drive/yolo_custom_model_Training"
      ],
      "execution_count": 41,
      "outputs": [
        {
          "output_type": "stream",
          "text": [
            "/content/drive/My Drive/yolo_custom_model_Training\n"
          ],
          "name": "stdout"
        }
      ]
    },
    {
      "cell_type": "code",
      "metadata": {
        "colab": {
          "base_uri": "https://localhost:8080/"
        },
        "id": "odP4n-ESIqwh",
        "outputId": "8bfcd14b-c942-4ac0-991b-9589923bcc94"
      },
      "source": [
        "!git clone 'https://github.com/AlexeyAB/darknet.git' '/content/drive/My Drive/yolo_custom_model_Training/Darknet'"
      ],
      "execution_count": 42,
      "outputs": [
        {
          "output_type": "stream",
          "text": [
            "fatal: destination path '/content/drive/My Drive/yolo_custom_model_Training/Darknet' already exists and is not an empty directory.\n"
          ],
          "name": "stdout"
        }
      ]
    },
    {
      "cell_type": "code",
      "metadata": {
        "colab": {
          "base_uri": "https://localhost:8080/"
        },
        "id": "JE1WRJ_OI-EG",
        "outputId": "73b9f866-f591-4021-a745-6934b983d950"
      },
      "source": [
        "%cd /content/drive/My Drive/yolo_custom_model_Training/Darknet"
      ],
      "execution_count": 43,
      "outputs": [
        {
          "output_type": "stream",
          "text": [
            "/content/drive/My Drive/yolo_custom_model_Training/Darknet\n"
          ],
          "name": "stdout"
        }
      ]
    },
    {
      "cell_type": "code",
      "metadata": {
        "colab": {
          "base_uri": "https://localhost:8080/"
        },
        "id": "OlBDEJBfiZdJ",
        "outputId": "816b283b-9c7d-4598-9f1f-88f786cd6f89"
      },
      "source": [
        "!ls"
      ],
      "execution_count": 44,
      "outputs": [
        {
          "output_type": "stream",
          "text": [
            "3rdparty\tDarknetConfig.cmake.in\tjson_mjpeg_streams.sh  scripts\n",
            "backup\t\tdarknet_images.py\tLICENSE\t\t       src\n",
            "build\t\tdarknet.py\t\tMakefile\t       vcpkg.json\n",
            "build.ps1\tdarknet_video.py\tnet_cam_v3.sh\t       video_yolov3.sh\n",
            "cfg\t\tdata\t\t\tnet_cam_v4.sh\t       video_yolov4.sh\n",
            "cmake\t\timage_yolov3.sh\t\tobj\n",
            "CMakeLists.txt\timage_yolov4.sh\t\tREADME.md\n",
            "darknet\t\tinclude\t\t\tresults\n"
          ],
          "name": "stdout"
        }
      ]
    },
    {
      "cell_type": "code",
      "metadata": {
        "id": "NgYNSPGiJWXO",
        "colab": {
          "base_uri": "https://localhost:8080/"
        },
        "outputId": "37e4e9b4-f260-4c8b-8dbf-e64ae7c7450b"
      },
      "source": [
        "!make"
      ],
      "execution_count": 45,
      "outputs": [
        {
          "output_type": "stream",
          "text": [
            "chmod +x *.sh\n"
          ],
          "name": "stdout"
        }
      ]
    },
    {
      "cell_type": "code",
      "metadata": {
        "colab": {
          "base_uri": "https://localhost:8080/"
        },
        "id": "DbZvSASho1q7",
        "outputId": "fc99cf53-c01a-4ff8-cac4-4f7230c9e30b"
      },
      "source": [
        "%cd /content/drive/My Drive/yolo_custom_model_Training"
      ],
      "execution_count": 46,
      "outputs": [
        {
          "output_type": "stream",
          "text": [
            "/content/drive/My Drive/yolo_custom_model_Training\n"
          ],
          "name": "stdout"
        }
      ]
    },
    {
      "cell_type": "code",
      "metadata": {
        "colab": {
          "base_uri": "https://localhost:8080/"
        },
        "id": "bC5p63DlhVMJ",
        "outputId": "805a95b3-2e70-415a-f7a1-ac4fcda7ef0e"
      },
      "source": [
        "!ls"
      ],
      "execution_count": 47,
      "outputs": [
        {
          "output_type": "stream",
          "text": [
            " autobot_dataset  'Autobot dataset.zip'   backup   custom_weight   Darknet\n"
          ],
          "name": "stdout"
        }
      ]
    },
    {
      "cell_type": "code",
      "metadata": {
        "id": "gljHijkFhWM6"
      },
      "source": [
        "!python autobot_dataset/creating-files-data-and-name.py"
      ],
      "execution_count": 48,
      "outputs": []
    },
    {
      "cell_type": "code",
      "metadata": {
        "id": "zVn2ZZXIhchr"
      },
      "source": [
        "!python autobot_dataset/creating-train-and-test-txt-files.py"
      ],
      "execution_count": 49,
      "outputs": []
    },
    {
      "cell_type": "code",
      "metadata": {
        "id": "GpKee8LRcOYJ"
      },
      "source": [
        "!chmod +x Darknet"
      ],
      "execution_count": 50,
      "outputs": []
    },
    {
      "cell_type": "code",
      "metadata": {
        "id": "wsFyVXHkeM31"
      },
      "source": [
        "!Darknet/darknet detector train custom_data/labelled_data.data darknet/cfg/yolov3_custom.cfg \n",
        "custom_weight/darknet53.conv.74 -dont_show"
      ],
      "execution_count": null,
      "outputs": []
    }
  ]
}