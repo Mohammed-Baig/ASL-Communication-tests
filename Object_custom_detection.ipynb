{
  "nbformat": 4,
  "nbformat_minor": 0,
  "metadata": {
    "colab": {
      "name": "Object_custom_detection",
      "provenance": [],
      "collapsed_sections": [],
      "authorship_tag": "ABX9TyNZ035Jhnt0D3iqzexOnEWm",
      "include_colab_link": true
    },
    "kernelspec": {
      "name": "python3",
      "display_name": "Python 3"
    },
    "language_info": {
      "name": "python"
    },
    "accelerator": "GPU"
  },
  "cells": [
    {
      "cell_type": "markdown",
      "metadata": {
        "id": "view-in-github",
        "colab_type": "text"
      },
      "source": [
        "<a href=\"https://colab.research.google.com/github/Mohammed-Baig/ASL-Communication-tests/blob/main/Object_custom_detection.ipynb\" target=\"_parent\"><img src=\"https://colab.research.google.com/assets/colab-badge.svg\" alt=\"Open In Colab\"/></a>"
      ]
    },
    {
      "cell_type": "code",
      "metadata": {
        "id": "sA-Z31JPEsjk",
        "colab": {
          "base_uri": "https://localhost:8080/"
        },
        "outputId": "675722a7-1ce7-481c-c47e-831c9d6b6066"
      },
      "source": [
        "from google.colab import drive\n",
        "drive.mount('/content/drive')"
      ],
      "execution_count": 1,
      "outputs": [
        {
          "output_type": "stream",
          "text": [
            "Mounted at /content/drive\n"
          ],
          "name": "stdout"
        }
      ]
    },
    {
      "cell_type": "code",
      "metadata": {
        "colab": {
          "base_uri": "https://localhost:8080/"
        },
        "id": "nVbULSGJBqcX",
        "outputId": "1f3b0e7f-083a-4f99-91ea-be0b29243d14"
      },
      "source": [
        "!ls '/content/drive/My Drive/yolo_custom_model_Training'"
      ],
      "execution_count": null,
      "outputs": [
        {
          "output_type": "stream",
          "text": [
            " autobot_dataset  'Autobot dataset.zip'   backup   custom_weight   Darknet\n"
          ],
          "name": "stdout"
        }
      ]
    },
    {
      "cell_type": "code",
      "metadata": {
        "id": "gLgRacB5Gt4b"
      },
      "source": [
        "#!unzip '/content/drive/My Drive/yolo_custom_model_Training/Autobot dataset.zip' -d '/content/drive/My Drive/yolo_custom_model_Training'"
      ],
      "execution_count": null,
      "outputs": []
    },
    {
      "cell_type": "code",
      "metadata": {
        "colab": {
          "base_uri": "https://localhost:8080/"
        },
        "id": "D0-b0hK-IWVB",
        "outputId": "9708fbe5-0525-406d-c984-af532dd10979"
      },
      "source": [
        "%cd /content/drive/My Drive/yolo_custom_model_Training"
      ],
      "execution_count": 2,
      "outputs": [
        {
          "output_type": "stream",
          "text": [
            "/content/drive/My Drive/yolo_custom_model_Training\n"
          ],
          "name": "stdout"
        }
      ]
    },
    {
      "cell_type": "code",
      "metadata": {
        "colab": {
          "base_uri": "https://localhost:8080/"
        },
        "id": "odP4n-ESIqwh",
        "outputId": "8914855a-c34b-45ec-cb0c-cf097c908ff0"
      },
      "source": [
        "!git clone 'https://github.com/AlexeyAB/darknet.git' '/content/drive/My Drive/yolo_custom_model_Training/Darknet'"
      ],
      "execution_count": 3,
      "outputs": [
        {
          "output_type": "stream",
          "text": [
            "fatal: destination path '/content/drive/My Drive/yolo_custom_model_Training/Darknet' already exists and is not an empty directory.\n"
          ],
          "name": "stdout"
        }
      ]
    },
    {
      "cell_type": "code",
      "metadata": {
        "colab": {
          "base_uri": "https://localhost:8080/"
        },
        "id": "JE1WRJ_OI-EG",
        "outputId": "e3d8b37e-72ec-43ae-beb2-10d2e9d69813"
      },
      "source": [
        "%cd /content/drive/My Drive/yolo_custom_model_Training/Darknet"
      ],
      "execution_count": 16,
      "outputs": [
        {
          "output_type": "stream",
          "text": [
            "/content/drive/My Drive/yolo_custom_model_Training/Darknet\n"
          ],
          "name": "stdout"
        }
      ]
    },
    {
      "cell_type": "code",
      "metadata": {
        "colab": {
          "base_uri": "https://localhost:8080/"
        },
        "id": "OlBDEJBfiZdJ",
        "outputId": "f32150cc-b60a-4841-9c9a-701d55a97c41"
      },
      "source": [
        "!ls"
      ],
      "execution_count": null,
      "outputs": [
        {
          "output_type": "stream",
          "text": [
            "3rdparty\tDarknetConfig.cmake.in\tjson_mjpeg_streams.sh  scripts\n",
            "backup\t\tdarknet_images.py\tLICENSE\t\t       src\n",
            "build\t\tdarknet.py\t\tMakefile\t       vcpkg.json\n",
            "build.ps1\tdarknet_video.py\tnet_cam_v3.sh\t       video_yolov3.sh\n",
            "cfg\t\tdata\t\t\tnet_cam_v4.sh\t       video_yolov4.sh\n",
            "cmake\t\timage_yolov3.sh\t\tobj\n",
            "CMakeLists.txt\timage_yolov4.sh\t\tREADME.md\n",
            "darknet\t\tinclude\t\t\tresults\n"
          ],
          "name": "stdout"
        }
      ]
    },
    {
      "cell_type": "code",
      "metadata": {
        "id": "NgYNSPGiJWXO",
        "colab": {
          "base_uri": "https://localhost:8080/"
        },
        "outputId": "dbd65d51-4481-4e31-e0c1-840e95d136aa"
      },
      "source": [
        "!make"
      ],
      "execution_count": 17,
      "outputs": [
        {
          "output_type": "stream",
          "text": [
            "chmod +x *.sh\n"
          ],
          "name": "stdout"
        }
      ]
    },
    {
      "cell_type": "code",
      "metadata": {
        "colab": {
          "base_uri": "https://localhost:8080/"
        },
        "id": "DbZvSASho1q7",
        "outputId": "19b42fdc-8a09-44c3-9ecb-240b20ca97e8"
      },
      "source": [
        "%cd /content/drive/My Drive/yolo_custom_model_Training"
      ],
      "execution_count": 19,
      "outputs": [
        {
          "output_type": "stream",
          "text": [
            "/content/drive/My Drive/yolo_custom_model_Training\n"
          ],
          "name": "stdout"
        }
      ]
    },
    {
      "cell_type": "code",
      "metadata": {
        "colab": {
          "base_uri": "https://localhost:8080/"
        },
        "id": "bC5p63DlhVMJ",
        "outputId": "91b3edb6-85d5-4038-e3e1-88c428abf2b1"
      },
      "source": [
        "!ls"
      ],
      "execution_count": 20,
      "outputs": [
        {
          "output_type": "stream",
          "text": [
            " autobot_dataset  'Autobot dataset.zip'   backup   custom_weight   Darknet\n"
          ],
          "name": "stdout"
        }
      ]
    },
    {
      "cell_type": "code",
      "metadata": {
        "id": "gljHijkFhWM6"
      },
      "source": [
        "!python autobot_dataset/creating-files-data-and-name.py"
      ],
      "execution_count": 7,
      "outputs": []
    },
    {
      "cell_type": "code",
      "metadata": {
        "id": "zVn2ZZXIhchr"
      },
      "source": [
        "!python autobot_dataset/creating-train-and-test-txt-files.py"
      ],
      "execution_count": 8,
      "outputs": []
    },
    {
      "cell_type": "code",
      "metadata": {
        "colab": {
          "base_uri": "https://localhost:8080/"
        },
        "id": "o9jJSqLC5aQw",
        "outputId": "d8a862f0-feac-49f2-ded1-c89a928960da"
      },
      "source": [
        "!Darknet/darknet"
      ],
      "execution_count": 15,
      "outputs": [
        {
          "output_type": "stream",
          "text": [
            "/bin/bash: Darknet/darknet: Permission denied\n"
          ],
          "name": "stdout"
        }
      ]
    },
    {
      "cell_type": "code",
      "metadata": {
        "colab": {
          "base_uri": "https://localhost:8080/"
        },
        "id": "h0jhEtGLhftc",
        "outputId": "d30d92a8-258c-44a5-c41a-d76f1b1d3306"
      },
      "source": [
        "!Darknet/darknet detector train custom_data/labelled_data.data darknet/cfg/yolov3_custom.cfg \n",
        "#custom_weight/darknet53.conv.74 -dont_show"
      ],
      "execution_count": 23,
      "outputs": [
        {
          "output_type": "stream",
          "text": [
            "/bin/bash: Darknet/darknet: Permission denied\n"
          ],
          "name": "stdout"
        }
      ]
    },
    {
      "cell_type": "code",
      "metadata": {
        "id": "onJ1Nnil57ez"
      },
      "source": [
        ""
      ],
      "execution_count": null,
      "outputs": []
    }
  ]
}