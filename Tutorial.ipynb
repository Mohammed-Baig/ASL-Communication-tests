{
 "cells": [
  {
   "cell_type": "markdown",
   "metadata": {},
   "source": [
    "Resources Used\n",
    "- wget.download('https://tensorflow-object-detection-api-tutorial.readthedocs.io/en/latest/_downloads/da4babe668a8afb093cc7776d7e630f3/generate_tfrecord.py')\n",
    "- Setup https://tensorflow-object-detection-api-tutorial.readthedocs.io/en/latest/install.html"
   ]
  },
  {
   "cell_type": "markdown",
   "metadata": {},
   "source": [
    "# 0. Setup Paths"
   ]
  },
  {
   "cell_type": "code",
   "execution_count": 1,
   "metadata": {},
   "outputs": [],
   "source": [
    "WORKSPACE_PATH = 'Tensorflow/workspace'\n",
    "SCRIPTS_PATH = 'Tensorflow/scripts'\n",
    "APIMODEL_PATH = 'Tensorflowmodels'\n",
    "ANNOTATION_PATH = WORKSPACE_PATH+'/annotations'\n",
    "IMAGE_PATH = WORKSPACE_PATH+'/images'\n",
    "MODEL_PATH = WORKSPACE_PATH+'/models'\n",
    "PRETRAINED_MODEL_PATH = WORKSPACE_PATH+'/pre-trained-models'\n",
    "CONFIG_PATH = MODEL_PATH+'/my_ssd_mobnet/pipeline.config'\n",
    "CHECKPOINT_PATH = MODEL_PATH+'/my_ssd_mobnet'"
   ]
  },
  {
   "cell_type": "markdown",
   "metadata": {},
   "source": [
    "# 1. Create Label Map"
   ]
  },
  {
   "cell_type": "code",
   "execution_count": 7,
   "metadata": {},
   "outputs": [],
   "source": [
    "labels = [{'name':'Hello', 'id':1}, \n",
    "          {'name':'Yes', 'id':2},\n",
    "          {'name':'No', 'id':3},\n",
    "          {'name':'Thanks', 'id':4},\n",
    "          {'name':'I Love You', 'id':5}]\n",
    "\n",
    "with open(ANNOTATION_PATH + '\\label_map.pbtxt', 'w') as f:\n",
    "    for label in labels:\n",
    "        f.write('item { \\n')\n",
    "        f.write('\\tname:\\'{}\\'\\n'.format(label['name']))\n",
    "        f.write('\\tid:{}\\n'.format(label['id']))\n",
    "        f.write('}\\n')"
   ]
  },
  {
   "cell_type": "markdown",
   "metadata": {},
   "source": [
    "# 2. Create TF records"
   ]
  },
  {
   "cell_type": "code",
   "execution_count": 15,
   "metadata": {},
   "outputs": [
    {
     "name": "stdout",
     "output_type": "stream",
     "text": [
      "Collecting tensorflow==2.5.0\n",
      "  Using cached tensorflow-2.5.0-cp38-cp38-win_amd64.whl (422.6 MB)Note: you may need to restart the kernel to use updated packages.\n",
      "Collecting wrapt~=1.12.1\n",
      "  Using cached wrapt-1.12.1-py3-none-any.whl\n",
      "Collecting astunparse~=1.6.3\n",
      "  Using cached astunparse-1.6.3-py2.py3-none-any.whl (12 kB)\n",
      "Collecting opt-einsum~=3.3.0\n",
      "  Using cached opt_einsum-3.3.0-py3-none-any.whl (65 kB)\n",
      "Collecting protobuf>=3.9.2\n",
      "  Using cached protobuf-3.17.3-cp38-cp38-win_amd64.whl (909 kB)\n",
      "Collecting tensorboard~=2.5\n",
      "  Using cached tensorboard-2.5.0-py3-none-any.whl (6.0 MB)\n",
      "Collecting numpy~=1.19.2\n",
      "  Using cached numpy-1.19.5-cp38-cp38-win_amd64.whl (13.3 MB)\n",
      "Collecting keras-nightly~=2.5.0.dev\n",
      "  Using cached keras_nightly-2.5.0.dev2021032900-py2.py3-none-any.whl (1.2 MB)\n"
     ]
    },
    {
     "name": "stderr",
     "output_type": "stream",
     "text": [
      "ERROR: pip's dependency resolver does not currently take into account all the packages that are installed. This behaviour is the source of the following dependency conflicts."
     ]
    },
    {
     "name": "stdout",
     "output_type": "stream",
     "text": [
      "\n",
      "Collecting grpcio~=1.34.0\n",
      "  Using cached grpcio-1.34.1-cp38-cp38-win_amd64.whl (2.9 MB)\n",
      "Collecting typing-extensions~=3.7.4\n",
      "  Using cached typing_extensions-3.7.4.3-py3-none-any.whl (22 kB)\n",
      "Collecting google-pasta~=0.2\n",
      "  Using cached google_pasta-0.2.0-py3-none-any.whl (57 kB)\n",
      "Collecting absl-py~=0.10\n",
      "  Using cached absl_py-0.13.0-py3-none-any.whl (132 kB)\n",
      "Collecting six~=1.15.0\n",
      "  Using cached six-1.15.0-py2.py3-none-any.whl (10 kB)\n",
      "Collecting gast==0.4.0\n",
      "  Using cached gast-0.4.0-py3-none-any.whl (9.8 kB)\n",
      "Collecting h5py~=3.1.0\n",
      "  Using cached h5py-3.1.0-cp38-cp38-win_amd64.whl (2.7 MB)\n",
      "Collecting termcolor~=1.1.0\n",
      "  Using cached termcolor-1.1.0-py3-none-any.whl\n",
      "Collecting flatbuffers~=1.12.0\n",
      "  Using cached flatbuffers-1.12-py2.py3-none-any.whl (15 kB)\n",
      "Collecting keras-preprocessing~=1.1.2\n",
      "  Using cached Keras_Preprocessing-1.1.2-py2.py3-none-any.whl (42 kB)\n",
      "Collecting wheel~=0.35\n",
      "  Using cached wheel-0.36.2-py2.py3-none-any.whl (35 kB)\n",
      "Collecting tensorflow-estimator<2.6.0,>=2.5.0rc0\n",
      "  Using cached tensorflow_estimator-2.5.0-py2.py3-none-any.whl (462 kB)\n",
      "Collecting requests<3,>=2.21.0\n",
      "  Using cached requests-2.26.0-py2.py3-none-any.whl (62 kB)\n",
      "Collecting werkzeug>=0.11.15\n",
      "  Using cached Werkzeug-2.0.1-py3-none-any.whl (288 kB)\n",
      "Collecting markdown>=2.6.8\n",
      "  Using cached Markdown-3.3.4-py3-none-any.whl (97 kB)\n",
      "Collecting google-auth-oauthlib<0.5,>=0.4.1\n",
      "  Using cached google_auth_oauthlib-0.4.4-py2.py3-none-any.whl (18 kB)\n",
      "Collecting google-auth<2,>=1.6.3\n",
      "  Using cached google_auth-1.33.1-py2.py3-none-any.whl (152 kB)\n",
      "Collecting setuptools>=41.0.0\n",
      "  Using cached setuptools-57.4.0-py3-none-any.whl (819 kB)\n",
      "Collecting tensorboard-plugin-wit>=1.6.0\n",
      "  Using cached tensorboard_plugin_wit-1.8.0-py3-none-any.whl (781 kB)\n",
      "Collecting tensorboard-data-server<0.7.0,>=0.6.0\n",
      "  Using cached tensorboard_data_server-0.6.1-py3-none-any.whl (2.4 kB)\n",
      "Collecting pyasn1-modules>=0.2.1\n",
      "  Using cached pyasn1_modules-0.2.8-py2.py3-none-any.whl (155 kB)\n",
      "Collecting rsa<5,>=3.1.4\n",
      "  Using cached rsa-4.7.2-py3-none-any.whl (34 kB)\n",
      "Collecting cachetools<5.0,>=2.0.0\n",
      "  Using cached cachetools-4.2.2-py3-none-any.whl (11 kB)\n",
      "Collecting requests-oauthlib>=0.7.0\n",
      "  Using cached requests_oauthlib-1.3.0-py2.py3-none-any.whl (23 kB)\n",
      "Collecting pyasn1<0.5.0,>=0.4.6\n",
      "  Using cached pyasn1-0.4.8-py2.py3-none-any.whl (77 kB)\n",
      "Collecting urllib3<1.27,>=1.21.1\n",
      "  Using cached urllib3-1.26.6-py2.py3-none-any.whl (138 kB)\n",
      "Collecting certifi>=2017.4.17\n",
      "  Using cached certifi-2021.5.30-py2.py3-none-any.whl (145 kB)\n",
      "Collecting charset-normalizer~=2.0.0\n",
      "  Using cached charset_normalizer-2.0.3-py3-none-any.whl (35 kB)\n",
      "Collecting idna<4,>=2.5\n",
      "  Using cached idna-3.2-py3-none-any.whl (59 kB)\n",
      "Collecting oauthlib>=3.0.0\n",
      "  Using cached oauthlib-3.1.1-py2.py3-none-any.whl (146 kB)\n",
      "Installing collected packages: urllib3, pyasn1, idna, charset-normalizer, certifi, six, setuptools, rsa, requests, pyasn1-modules, oauthlib, cachetools, requests-oauthlib, google-auth, wheel, werkzeug, tensorboard-plugin-wit, tensorboard-data-server, protobuf, numpy, markdown, grpcio, google-auth-oauthlib, absl-py, wrapt, typing-extensions, termcolor, tensorflow-estimator, tensorboard, opt-einsum, keras-preprocessing, keras-nightly, h5py, google-pasta, gast, flatbuffers, astunparse, tensorflow\n",
      "Successfully installed absl-py-0.13.0 astunparse-1.6.3 cachetools-4.2.2 certifi-2021.5.30 charset-normalizer-2.0.3 flatbuffers-1.12 gast-0.4.0 google-auth-1.33.1 google-auth-oauthlib-0.4.4 google-pasta-0.2.0 grpcio-1.34.1 h5py-3.1.0 idna-3.2 keras-nightly-2.5.0.dev2021032900 keras-preprocessing-1.1.2 markdown-3.3.4 numpy-1.19.5 oauthlib-3.1.1 opt-einsum-3.3.0 protobuf-3.17.3 pyasn1-0.4.8 pyasn1-modules-0.2.8 requests-2.26.0 requests-oauthlib-1.3.0 rsa-4.7.2 setuptools-57.4.0 six-1.15.0 tensorboard-2.5.0 tensorboard-data-server-0.6.1 tensorboard-plugin-wit-1.8.0 tensorflow-2.5.0 tensorflow-estimator-2.5.0 termcolor-1.1.0 typing-extensions-3.7.4.3 urllib3-1.26.6 werkzeug-2.0.1 wheel-0.36.2 wrapt-1.12.1\n"
     ]
    },
    {
     "name": "stderr",
     "output_type": "stream",
     "text": [
      "\n",
      "spyder 4.2.5 requires pyqt5<5.13, which is not installed.\n",
      "spyder 4.2.5 requires pyqtwebengine<5.13, which is not installed.\n",
      "conda-repo-cli 1.0.4 requires pathlib, which is not installed.\n",
      "anaconda-project 0.9.1 requires ruamel-yaml, which is not installed.\n"
     ]
    }
   ],
   "source": [
    "pip install --ignore-installed --upgrade tensorflow==2.5.0"
   ]
  },
  {
   "cell_type": "code",
   "execution_count": 8,
   "metadata": {},
   "outputs": [
    {
     "name": "stdout",
     "output_type": "stream",
     "text": [
      "Requirement already satisfied: tensorflow-object-detection-api in c:\\users\\moham\\anaconda3\\lib\\site-packages (0.1.1)\n",
      "Requirement already satisfied: jupyter in c:\\users\\moham\\anaconda3\\lib\\site-packages (from tensorflow-object-detection-api) (1.0.0)\n",
      "Requirement already satisfied: Cython>=0.28.1 in c:\\users\\moham\\anaconda3\\lib\\site-packages (from tensorflow-object-detection-api) (0.29.23)\n",
      "Requirement already satisfied: contextlib2 in c:\\users\\moham\\anaconda3\\lib\\site-packages (from tensorflow-object-detection-api) (0.6.0.post1)\n",
      "Requirement already satisfied: Protobuf in c:\\users\\moham\\anaconda3\\lib\\site-packages (from tensorflow-object-detection-api) (3.17.3)\n",
      "Requirement already satisfied: lxml in c:\\users\\moham\\anaconda3\\lib\\site-packages (from tensorflow-object-detection-api) (4.6.3)\n",
      "Requirement already satisfied: twine in c:\\users\\moham\\anaconda3\\lib\\site-packages (from tensorflow-object-detection-api) (3.4.2)\n",
      "Requirement already satisfied: Matplotlib>=2.1 in c:\\users\\moham\\anaconda3\\lib\\site-packages (from tensorflow-object-detection-api) (3.3.4)\n",
      "Requirement already satisfied: tensorflow in c:\\users\\moham\\anaconda3\\lib\\site-packages (from tensorflow-object-detection-api) (2.5.0)\n",
      "Requirement already satisfied: wheel in c:\\users\\moham\\anaconda3\\lib\\site-packages (from tensorflow-object-detection-api) (0.36.2)\n",
      "Requirement already satisfied: Pillow>=1.0 in c:\\users\\moham\\anaconda3\\lib\\site-packages (from tensorflow-object-detection-api) (8.2.0)\n",
      "Requirement already satisfied: jupyter-console in c:\\users\\moham\\anaconda3\\lib\\site-packages (from jupyter->tensorflow-object-detection-api) (6.4.0)\n",
      "Requirement already satisfied: nbconvert in c:\\users\\moham\\anaconda3\\lib\\site-packages (from jupyter->tensorflow-object-detection-api) (6.0.7)\n",
      "Requirement already satisfied: qtconsole in c:\\users\\moham\\anaconda3\\lib\\site-packages (from jupyter->tensorflow-object-detection-api) (5.0.3)\n",
      "Requirement already satisfied: notebook in c:\\users\\moham\\anaconda3\\lib\\site-packages (from jupyter->tensorflow-object-detection-api) (6.3.0)\n",
      "Requirement already satisfied: ipykernel in c:\\users\\moham\\anaconda3\\lib\\site-packages (from jupyter->tensorflow-object-detection-api) (5.3.4)\n",
      "Requirement already satisfied: ipywidgets in c:\\users\\moham\\anaconda3\\lib\\site-packages (from jupyter->tensorflow-object-detection-api) (7.6.3)\n",
      "Requirement already satisfied: ipython>=5.0.0 in c:\\users\\moham\\anaconda3\\lib\\site-packages (from ipykernel->jupyter->tensorflow-object-detection-api) (7.22.0)\n",
      "Requirement already satisfied: tornado>=4.2 in c:\\users\\moham\\anaconda3\\lib\\site-packages (from ipykernel->jupyter->tensorflow-object-detection-api) (6.1)\n",
      "Requirement already satisfied: jupyter-client in c:\\users\\moham\\anaconda3\\lib\\site-packages (from ipykernel->jupyter->tensorflow-object-detection-api) (6.1.12)\n",
      "Requirement already satisfied: traitlets>=4.1.0 in c:\\users\\moham\\anaconda3\\lib\\site-packages (from ipykernel->jupyter->tensorflow-object-detection-api) (5.0.5)\n",
      "Requirement already satisfied: decorator in c:\\users\\moham\\anaconda3\\lib\\site-packages (from ipython>=5.0.0->ipykernel->jupyter->tensorflow-object-detection-api) (5.0.6)\n",
      "Requirement already satisfied: colorama in c:\\users\\moham\\anaconda3\\lib\\site-packages (from ipython>=5.0.0->ipykernel->jupyter->tensorflow-object-detection-api) (0.4.4)\n",
      "Requirement already satisfied: jedi>=0.16 in c:\\users\\moham\\anaconda3\\lib\\site-packages (from ipython>=5.0.0->ipykernel->jupyter->tensorflow-object-detection-api) (0.17.2)\n",
      "Requirement already satisfied: setuptools>=18.5 in c:\\users\\moham\\anaconda3\\lib\\site-packages (from ipython>=5.0.0->ipykernel->jupyter->tensorflow-object-detection-api) (57.4.0)\n",
      "Requirement already satisfied: prompt-toolkit!=3.0.0,!=3.0.1,<3.1.0,>=2.0.0 in c:\\users\\moham\\anaconda3\\lib\\site-packages (from ipython>=5.0.0->ipykernel->jupyter->tensorflow-object-detection-api) (3.0.17)\n",
      "Requirement already satisfied: pickleshare in c:\\users\\moham\\anaconda3\\lib\\site-packages (from ipython>=5.0.0->ipykernel->jupyter->tensorflow-object-detection-api) (0.7.5)\n",
      "Requirement already satisfied: pygments in c:\\users\\moham\\anaconda3\\lib\\site-packages (from ipython>=5.0.0->ipykernel->jupyter->tensorflow-object-detection-api) (2.8.1)\n",
      "Requirement already satisfied: backcall in c:\\users\\moham\\anaconda3\\lib\\site-packages (from ipython>=5.0.0->ipykernel->jupyter->tensorflow-object-detection-api) (0.2.0)\n",
      "Requirement already satisfied: parso<0.8.0,>=0.7.0 in c:\\users\\moham\\anaconda3\\lib\\site-packages (from jedi>=0.16->ipython>=5.0.0->ipykernel->jupyter->tensorflow-object-detection-api) (0.7.0)\n",
      "Requirement already satisfied: wcwidth in c:\\users\\moham\\anaconda3\\lib\\site-packages (from prompt-toolkit!=3.0.0,!=3.0.1,<3.1.0,>=2.0.0->ipython>=5.0.0->ipykernel->jupyter->tensorflow-object-detection-api) (0.2.5)\n",
      "Requirement already satisfied: ipython-genutils in c:\\users\\moham\\anaconda3\\lib\\site-packages (from traitlets>=4.1.0->ipykernel->jupyter->tensorflow-object-detection-api) (0.2.0)\n",
      "Requirement already satisfied: widgetsnbextension~=3.5.0 in c:\\users\\moham\\anaconda3\\lib\\site-packages (from ipywidgets->jupyter->tensorflow-object-detection-api) (3.5.1)\n",
      "Requirement already satisfied: jupyterlab-widgets>=1.0.0 in c:\\users\\moham\\anaconda3\\lib\\site-packages (from ipywidgets->jupyter->tensorflow-object-detection-api) (1.0.0)\n",
      "Requirement already satisfied: nbformat>=4.2.0 in c:\\users\\moham\\anaconda3\\lib\\site-packages (from ipywidgets->jupyter->tensorflow-object-detection-api) (5.1.3)\n",
      "Requirement already satisfied: jupyter-core in c:\\users\\moham\\anaconda3\\lib\\site-packages (from nbformat>=4.2.0->ipywidgets->jupyter->tensorflow-object-detection-api) (4.7.1)\n",
      "Requirement already satisfied: jsonschema!=2.5.0,>=2.4 in c:\\users\\moham\\anaconda3\\lib\\site-packages (from nbformat>=4.2.0->ipywidgets->jupyter->tensorflow-object-detection-api) (3.2.0)\n",
      "Requirement already satisfied: six>=1.11.0 in c:\\users\\moham\\anaconda3\\lib\\site-packages (from jsonschema!=2.5.0,>=2.4->nbformat>=4.2.0->ipywidgets->jupyter->tensorflow-object-detection-api) (1.15.0)\n",
      "Requirement already satisfied: attrs>=17.4.0 in c:\\users\\moham\\anaconda3\\lib\\site-packages (from jsonschema!=2.5.0,>=2.4->nbformat>=4.2.0->ipywidgets->jupyter->tensorflow-object-detection-api) (20.3.0)\n",
      "Requirement already satisfied: pyrsistent>=0.14.0 in c:\\users\\moham\\anaconda3\\lib\\site-packages (from jsonschema!=2.5.0,>=2.4->nbformat>=4.2.0->ipywidgets->jupyter->tensorflow-object-detection-api) (0.17.3)\n",
      "Requirement already satisfied: pyzmq>=17 in c:\\users\\moham\\anaconda3\\lib\\site-packages (from notebook->jupyter->tensorflow-object-detection-api) (20.0.0)\n",
      "Requirement already satisfied: terminado>=0.8.3 in c:\\users\\moham\\anaconda3\\lib\\site-packages (from notebook->jupyter->tensorflow-object-detection-api) (0.9.4)\n",
      "Requirement already satisfied: jinja2 in c:\\users\\moham\\anaconda3\\lib\\site-packages (from notebook->jupyter->tensorflow-object-detection-api) (2.11.3)\n",
      "Requirement already satisfied: Send2Trash>=1.5.0 in c:\\users\\moham\\anaconda3\\lib\\site-packages (from notebook->jupyter->tensorflow-object-detection-api) (1.5.0)\n",
      "Requirement already satisfied: prometheus-client in c:\\users\\moham\\anaconda3\\lib\\site-packages (from notebook->jupyter->tensorflow-object-detection-api) (0.10.1)\n",
      "Requirement already satisfied: argon2-cffi in c:\\users\\moham\\anaconda3\\lib\\site-packages (from notebook->jupyter->tensorflow-object-detection-api) (20.1.0)\n",
      "Requirement already satisfied: python-dateutil>=2.1 in c:\\users\\moham\\anaconda3\\lib\\site-packages (from jupyter-client->ipykernel->jupyter->tensorflow-object-detection-api) (2.8.1)\n",
      "Requirement already satisfied: pywin32>=1.0 in c:\\users\\moham\\anaconda3\\lib\\site-packages (from jupyter-core->nbformat>=4.2.0->ipywidgets->jupyter->tensorflow-object-detection-api) (227)\n",
      "Requirement already satisfied: pywinpty>=0.5 in c:\\users\\moham\\anaconda3\\lib\\site-packages (from terminado>=0.8.3->notebook->jupyter->tensorflow-object-detection-api) (0.5.7)\n",
      "Requirement already satisfied: cffi>=1.0.0 in c:\\users\\moham\\anaconda3\\lib\\site-packages (from argon2-cffi->notebook->jupyter->tensorflow-object-detection-api) (1.14.5)\n",
      "Requirement already satisfied: pycparser in c:\\users\\moham\\anaconda3\\lib\\site-packages (from cffi>=1.0.0->argon2-cffi->notebook->jupyter->tensorflow-object-detection-api) (2.20)\n",
      "Requirement already satisfied: MarkupSafe>=0.23 in c:\\users\\moham\\anaconda3\\lib\\site-packages (from jinja2->notebook->jupyter->tensorflow-object-detection-api) (1.1.1)\n",
      "Requirement already satisfied: numpy>=1.15 in c:\\users\\moham\\anaconda3\\lib\\site-packages (from Matplotlib>=2.1->tensorflow-object-detection-api) (1.19.5)\n",
      "Requirement already satisfied: cycler>=0.10 in c:\\users\\moham\\anaconda3\\lib\\site-packages (from Matplotlib>=2.1->tensorflow-object-detection-api) (0.10.0)\n",
      "Requirement already satisfied: kiwisolver>=1.0.1 in c:\\users\\moham\\anaconda3\\lib\\site-packages (from Matplotlib>=2.1->tensorflow-object-detection-api) (1.3.1)\n",
      "Requirement already satisfied: pyparsing!=2.0.4,!=2.1.2,!=2.1.6,>=2.0.3 in c:\\users\\moham\\anaconda3\\lib\\site-packages (from Matplotlib>=2.1->tensorflow-object-detection-api) (2.4.7)\n",
      "Requirement already satisfied: testpath in c:\\users\\moham\\anaconda3\\lib\\site-packages (from nbconvert->jupyter->tensorflow-object-detection-api) (0.4.4)\n",
      "Requirement already satisfied: entrypoints>=0.2.2 in c:\\users\\moham\\anaconda3\\lib\\site-packages (from nbconvert->jupyter->tensorflow-object-detection-api) (0.3)\n",
      "Requirement already satisfied: bleach in c:\\users\\moham\\anaconda3\\lib\\site-packages (from nbconvert->jupyter->tensorflow-object-detection-api) (3.3.0)\n",
      "Requirement already satisfied: nbclient<0.6.0,>=0.5.0 in c:\\users\\moham\\anaconda3\\lib\\site-packages (from nbconvert->jupyter->tensorflow-object-detection-api) (0.5.3)\n",
      "Requirement already satisfied: mistune<2,>=0.8.1 in c:\\users\\moham\\anaconda3\\lib\\site-packages (from nbconvert->jupyter->tensorflow-object-detection-api) (0.8.4)\n",
      "Requirement already satisfied: pandocfilters>=1.4.1 in c:\\users\\moham\\anaconda3\\lib\\site-packages (from nbconvert->jupyter->tensorflow-object-detection-api) (1.4.3)\n",
      "Requirement already satisfied: jupyterlab-pygments in c:\\users\\moham\\anaconda3\\lib\\site-packages (from nbconvert->jupyter->tensorflow-object-detection-api) (0.1.2)\n",
      "Requirement already satisfied: defusedxml in c:\\users\\moham\\anaconda3\\lib\\site-packages (from nbconvert->jupyter->tensorflow-object-detection-api) (0.7.1)\n",
      "Requirement already satisfied: nest-asyncio in c:\\users\\moham\\anaconda3\\lib\\site-packages (from nbclient<0.6.0,>=0.5.0->nbconvert->jupyter->tensorflow-object-detection-api) (1.5.1)\n",
      "Requirement already satisfied: async-generator in c:\\users\\moham\\anaconda3\\lib\\site-packages (from nbclient<0.6.0,>=0.5.0->nbconvert->jupyter->tensorflow-object-detection-api) (1.10)\n",
      "Requirement already satisfied: webencodings in c:\\users\\moham\\anaconda3\\lib\\site-packages (from bleach->nbconvert->jupyter->tensorflow-object-detection-api) (0.5.1)\n",
      "Requirement already satisfied: packaging in c:\\users\\moham\\anaconda3\\lib\\site-packages (from bleach->nbconvert->jupyter->tensorflow-object-detection-api) (20.9)\n",
      "Requirement already satisfied: qtpy in c:\\users\\moham\\anaconda3\\lib\\site-packages (from qtconsole->jupyter->tensorflow-object-detection-api) (1.9.0)\n",
      "Requirement already satisfied: wrapt~=1.12.1 in c:\\users\\moham\\anaconda3\\lib\\site-packages (from tensorflow->tensorflow-object-detection-api) (1.12.1)\n",
      "Requirement already satisfied: tensorflow-estimator<2.6.0,>=2.5.0rc0 in c:\\users\\moham\\anaconda3\\lib\\site-packages (from tensorflow->tensorflow-object-detection-api) (2.5.0)\n",
      "Requirement already satisfied: astunparse~=1.6.3 in c:\\users\\moham\\anaconda3\\lib\\site-packages (from tensorflow->tensorflow-object-detection-api) (1.6.3)\n",
      "Requirement already satisfied: absl-py~=0.10 in c:\\users\\moham\\anaconda3\\lib\\site-packages (from tensorflow->tensorflow-object-detection-api) (0.13.0)\n",
      "Requirement already satisfied: typing-extensions~=3.7.4 in c:\\users\\moham\\anaconda3\\lib\\site-packages (from tensorflow->tensorflow-object-detection-api) (3.7.4.3)\n",
      "Requirement already satisfied: termcolor~=1.1.0 in c:\\users\\moham\\anaconda3\\lib\\site-packages (from tensorflow->tensorflow-object-detection-api) (1.1.0)\n",
      "Requirement already satisfied: opt-einsum~=3.3.0 in c:\\users\\moham\\anaconda3\\lib\\site-packages (from tensorflow->tensorflow-object-detection-api) (3.3.0)\n",
      "Requirement already satisfied: flatbuffers~=1.12.0 in c:\\users\\moham\\anaconda3\\lib\\site-packages (from tensorflow->tensorflow-object-detection-api) (1.12)\n",
      "Requirement already satisfied: keras-nightly~=2.5.0.dev in c:\\users\\moham\\anaconda3\\lib\\site-packages (from tensorflow->tensorflow-object-detection-api) (2.5.0.dev2021032900)\n",
      "Requirement already satisfied: h5py~=3.1.0 in c:\\users\\moham\\anaconda3\\lib\\site-packages (from tensorflow->tensorflow-object-detection-api) (3.1.0)\n",
      "Requirement already satisfied: gast==0.4.0 in c:\\users\\moham\\anaconda3\\lib\\site-packages (from tensorflow->tensorflow-object-detection-api) (0.4.0)\n",
      "Requirement already satisfied: grpcio~=1.34.0 in c:\\users\\moham\\anaconda3\\lib\\site-packages (from tensorflow->tensorflow-object-detection-api) (1.34.1)\n",
      "Requirement already satisfied: google-pasta~=0.2 in c:\\users\\moham\\anaconda3\\lib\\site-packages (from tensorflow->tensorflow-object-detection-api) (0.2.0)\n",
      "Requirement already satisfied: keras-preprocessing~=1.1.2 in c:\\users\\moham\\anaconda3\\lib\\site-packages (from tensorflow->tensorflow-object-detection-api) (1.1.2)\n",
      "Requirement already satisfied: tensorboard~=2.5 in c:\\users\\moham\\anaconda3\\lib\\site-packages (from tensorflow->tensorflow-object-detection-api) (2.5.0)\n",
      "Requirement already satisfied: google-auth-oauthlib<0.5,>=0.4.1 in c:\\users\\moham\\anaconda3\\lib\\site-packages (from tensorboard~=2.5->tensorflow->tensorflow-object-detection-api) (0.4.4)\n",
      "Requirement already satisfied: markdown>=2.6.8 in c:\\users\\moham\\anaconda3\\lib\\site-packages (from tensorboard~=2.5->tensorflow->tensorflow-object-detection-api) (3.3.4)\n",
      "Requirement already satisfied: tensorboard-plugin-wit>=1.6.0 in c:\\users\\moham\\anaconda3\\lib\\site-packages (from tensorboard~=2.5->tensorflow->tensorflow-object-detection-api) (1.8.0)\n",
      "Note: you may need to restart the kernel to use updated packages.\n"
     ]
    },
    {
     "name": "stdout",
     "output_type": "stream",
     "text": [
      "Requirement already satisfied: requests<3,>=2.21.0 in c:\\users\\moham\\anaconda3\\lib\\site-packages (from tensorboard~=2.5->tensorflow->tensorflow-object-detection-api) (2.26.0)\n",
      "Requirement already satisfied: google-auth<2,>=1.6.3 in c:\\users\\moham\\anaconda3\\lib\\site-packages (from tensorboard~=2.5->tensorflow->tensorflow-object-detection-api) (1.33.1)\n",
      "Requirement already satisfied: werkzeug>=0.11.15 in c:\\users\\moham\\anaconda3\\lib\\site-packages (from tensorboard~=2.5->tensorflow->tensorflow-object-detection-api) (2.0.1)\n",
      "Requirement already satisfied: tensorboard-data-server<0.7.0,>=0.6.0 in c:\\users\\moham\\anaconda3\\lib\\site-packages (from tensorboard~=2.5->tensorflow->tensorflow-object-detection-api) (0.6.1)\n",
      "Requirement already satisfied: cachetools<5.0,>=2.0.0 in c:\\users\\moham\\anaconda3\\lib\\site-packages (from google-auth<2,>=1.6.3->tensorboard~=2.5->tensorflow->tensorflow-object-detection-api) (4.2.2)\n",
      "Requirement already satisfied: rsa<5,>=3.1.4 in c:\\users\\moham\\anaconda3\\lib\\site-packages (from google-auth<2,>=1.6.3->tensorboard~=2.5->tensorflow->tensorflow-object-detection-api) (4.7.2)\n",
      "Requirement already satisfied: pyasn1-modules>=0.2.1 in c:\\users\\moham\\anaconda3\\lib\\site-packages (from google-auth<2,>=1.6.3->tensorboard~=2.5->tensorflow->tensorflow-object-detection-api) (0.2.8)\n",
      "Requirement already satisfied: requests-oauthlib>=0.7.0 in c:\\users\\moham\\anaconda3\\lib\\site-packages (from google-auth-oauthlib<0.5,>=0.4.1->tensorboard~=2.5->tensorflow->tensorflow-object-detection-api) (1.3.0)\n",
      "Requirement already satisfied: pyasn1<0.5.0,>=0.4.6 in c:\\users\\moham\\anaconda3\\lib\\site-packages (from pyasn1-modules>=0.2.1->google-auth<2,>=1.6.3->tensorboard~=2.5->tensorflow->tensorflow-object-detection-api) (0.4.8)\n",
      "Requirement already satisfied: idna<4,>=2.5 in c:\\users\\moham\\anaconda3\\lib\\site-packages (from requests<3,>=2.21.0->tensorboard~=2.5->tensorflow->tensorflow-object-detection-api) (3.2)\n",
      "Requirement already satisfied: urllib3<1.27,>=1.21.1 in c:\\users\\moham\\anaconda3\\lib\\site-packages (from requests<3,>=2.21.0->tensorboard~=2.5->tensorflow->tensorflow-object-detection-api) (1.26.6)\n",
      "Requirement already satisfied: charset-normalizer~=2.0.0 in c:\\users\\moham\\anaconda3\\lib\\site-packages (from requests<3,>=2.21.0->tensorboard~=2.5->tensorflow->tensorflow-object-detection-api) (2.0.3)\n",
      "Requirement already satisfied: certifi>=2017.4.17 in c:\\users\\moham\\anaconda3\\lib\\site-packages (from requests<3,>=2.21.0->tensorboard~=2.5->tensorflow->tensorflow-object-detection-api) (2021.5.30)\n",
      "Requirement already satisfied: oauthlib>=3.0.0 in c:\\users\\moham\\anaconda3\\lib\\site-packages (from requests-oauthlib>=0.7.0->google-auth-oauthlib<0.5,>=0.4.1->tensorboard~=2.5->tensorflow->tensorflow-object-detection-api) (3.1.1)\n",
      "Requirement already satisfied: requests-toolbelt!=0.9.0,>=0.8.0 in c:\\users\\moham\\anaconda3\\lib\\site-packages (from twine->tensorflow-object-detection-api) (0.9.1)\n",
      "Requirement already satisfied: tqdm>=4.14 in c:\\users\\moham\\anaconda3\\lib\\site-packages (from twine->tensorflow-object-detection-api) (4.59.0)\n",
      "Requirement already satisfied: importlib-metadata>=3.6 in c:\\users\\moham\\anaconda3\\lib\\site-packages (from twine->tensorflow-object-detection-api) (3.10.0)\n",
      "Requirement already satisfied: readme-renderer>=21.0 in c:\\users\\moham\\anaconda3\\lib\\site-packages (from twine->tensorflow-object-detection-api) (29.0)\n",
      "Requirement already satisfied: pkginfo>=1.4.2 in c:\\users\\moham\\anaconda3\\lib\\site-packages (from twine->tensorflow-object-detection-api) (1.7.0)\n",
      "Requirement already satisfied: rfc3986>=1.4.0 in c:\\users\\moham\\anaconda3\\lib\\site-packages (from twine->tensorflow-object-detection-api) (1.5.0)\n",
      "Requirement already satisfied: keyring>=15.1 in c:\\users\\moham\\anaconda3\\lib\\site-packages (from twine->tensorflow-object-detection-api) (22.3.0)\n",
      "Requirement already satisfied: zipp>=0.5 in c:\\users\\moham\\anaconda3\\lib\\site-packages (from importlib-metadata>=3.6->twine->tensorflow-object-detection-api) (3.4.1)\n",
      "Requirement already satisfied: pywin32-ctypes!=0.1.0,!=0.1.1 in c:\\users\\moham\\anaconda3\\lib\\site-packages (from keyring>=15.1->twine->tensorflow-object-detection-api) (0.2.0)\n",
      "Requirement already satisfied: docutils>=0.13.1 in c:\\users\\moham\\anaconda3\\lib\\site-packages (from readme-renderer>=21.0->twine->tensorflow-object-detection-api) (0.17)\n"
     ]
    }
   ],
   "source": [
    "pip install tensorflow-object-detection-api"
   ]
  },
  {
   "cell_type": "code",
   "execution_count": 8,
   "metadata": {},
   "outputs": [
    {
     "name": "stdout",
     "output_type": "stream",
     "text": [
      "Collecting Image\n",
      "  Downloading image-1.5.33.tar.gz (15 kB)\n",
      "Collecting pillow\n",
      "  Downloading Pillow-8.3.1-1-cp37-cp37m-win_amd64.whl (3.2 MB)\n",
      "Collecting django\n",
      "  Downloading Django-3.2.5-py3-none-any.whl (7.9 MB)\n",
      "Requirement already satisfied: six in c:\\users\\moham\\appdata\\roaming\\python\\python37\\site-packages (from Image) (1.15.0)\n",
      "Collecting sqlparse>=0.2.2\n",
      "  Downloading sqlparse-0.4.1-py3-none-any.whl (42 kB)\n",
      "Collecting asgiref<4,>=3.3.2\n",
      "  Downloading asgiref-3.4.1-py3-none-any.whl (25 kB)\n",
      "Requirement already satisfied: pytz in c:\\users\\moham\\appdata\\roaming\\python\\python37\\site-packages (from django->Image) (2020.1)\n",
      "Requirement already satisfied: typing-extensions in c:\\users\\moham\\appdata\\roaming\\python\\python37\\site-packages (from asgiref<4,>=3.3.2->django->Image) (3.10.0.0)\n",
      "Building wheels for collected packages: Image\n",
      "  Building wheel for Image (setup.py): started\n",
      "  Building wheel for Image (setup.py): finished with status 'done'\n",
      "  Created wheel for Image: filename=image-1.5.33-py2.py3-none-any.whl size=19482 sha256=681469b2477e3eb662b72bb7f929617c09b58682162bcd3e56bdac138ac4125e\n",
      "  Stored in directory: c:\\users\\moham\\appdata\\local\\pip\\cache\\wheels\\56\\88\\e6\\897194cfe8c08a8b9afd881d3bf53d102e13fa39607d721383\n",
      "Successfully built Image\n",
      "Installing collected packages: sqlparse, asgiref, pillow, django, Image\n",
      "Successfully installed Image-1.5.33 asgiref-3.4.1 django-3.2.5 pillow-8.3.1 sqlparse-0.4.1\n",
      "Note: you may need to restart the kernel to use updated packages.\n"
     ]
    }
   ],
   "source": [
    "pip install Image"
   ]
  },
  {
   "cell_type": "code",
   "execution_count": 10,
   "metadata": {},
   "outputs": [],
   "source": [
    "import PIL"
   ]
  },
  {
   "cell_type": "code",
   "execution_count": 12,
   "metadata": {},
   "outputs": [
    {
     "name": "stdout",
     "output_type": "stream",
     "text": [
      "Collecting tensorflow-object-detection-api\n",
      "  Using cached tensorflow_object_detection_api-0.1.1.tar.gz (577 kB)\n",
      "Requirement already satisfied: Pillow>=1.0 in c:\\users\\moham\\.conda\\envs\\tensorflow\\lib\\site-packages (from tensorflow-object-detection-api) (8.3.1)\n",
      "Collecting Matplotlib>=2.1\n",
      "  Downloading matplotlib-3.4.2-cp37-cp37m-win_amd64.whl (7.1 MB)\n",
      "Requirement already satisfied: Cython>=0.28.1 in c:\\users\\moham\\.conda\\envs\\tensorflow\\lib\\site-packages (from tensorflow-object-detection-api) (0.29.24)\n",
      "Requirement already satisfied: Protobuf in c:\\users\\moham\\.conda\\envs\\tensorflow\\lib\\site-packages (from tensorflow-object-detection-api) (3.14.0)\n",
      "Collecting lxml\n",
      "  Downloading lxml-4.6.3-cp37-cp37m-win_amd64.whl (3.5 MB)\n",
      "Collecting jupyter\n",
      "  Downloading jupyter-1.0.0-py2.py3-none-any.whl (2.7 kB)\n",
      "Requirement already satisfied: tensorflow in c:\\users\\moham\\.conda\\envs\\tensorflow\\lib\\site-packages (from tensorflow-object-detection-api) (2.1.0)\n",
      "Collecting contextlib2\n",
      "  Downloading contextlib2-21.6.0-py2.py3-none-any.whl (13 kB)\n",
      "Requirement already satisfied: wheel in c:\\users\\moham\\.conda\\envs\\tensorflow\\lib\\site-packages (from tensorflow-object-detection-api) (0.36.2)\n",
      "Collecting twine\n",
      "  Using cached twine-3.4.2-py3-none-any.whl (34 kB)\n",
      "Collecting jupyter-console\n",
      "  Downloading jupyter_console-6.4.0-py3-none-any.whl (22 kB)\n",
      "Collecting ipywidgets\n",
      "  Downloading ipywidgets-7.6.3-py2.py3-none-any.whl (121 kB)\n",
      "Collecting qtconsole\n",
      "  Downloading qtconsole-5.1.1-py3-none-any.whl (119 kB)\n",
      "Requirement already satisfied: nbconvert in c:\\users\\moham\\appdata\\roaming\\python\\python37\\site-packages (from jupyter->tensorflow-object-detection-api) (6.1.0)\n",
      "Requirement already satisfied: notebook in c:\\users\\moham\\appdata\\roaming\\python\\python37\\site-packages (from jupyter->tensorflow-object-detection-api) (6.4.0)\n",
      "Requirement already satisfied: ipykernel in c:\\users\\moham\\appdata\\roaming\\python\\python37\\site-packages (from jupyter->tensorflow-object-detection-api) (6.0.1)\n",
      "Requirement already satisfied: traitlets>=4.1.0 in c:\\users\\moham\\appdata\\roaming\\python\\python37\\site-packages (from ipykernel->jupyter->tensorflow-object-detection-api) (5.0.5)\n",
      "Requirement already satisfied: debugpy>=1.0.0 in c:\\users\\moham\\appdata\\roaming\\python\\python37\\site-packages (from ipykernel->jupyter->tensorflow-object-detection-api) (1.3.0)\n",
      "Requirement already satisfied: tornado>=4.2 in c:\\users\\moham\\appdata\\roaming\\python\\python37\\site-packages (from ipykernel->jupyter->tensorflow-object-detection-api) (6.1)\n",
      "Requirement already satisfied: ipython>=7.23.1 in c:\\users\\moham\\appdata\\roaming\\python\\python37\\site-packages (from ipykernel->jupyter->tensorflow-object-detection-api) (7.25.0)\n",
      "Requirement already satisfied: jupyter-client in c:\\users\\moham\\appdata\\roaming\\python\\python37\\site-packages (from ipykernel->jupyter->tensorflow-object-detection-api) (6.1.12)\n",
      "Requirement already satisfied: importlib-metadata<4 in c:\\users\\moham\\appdata\\roaming\\python\\python37\\site-packages (from ipykernel->jupyter->tensorflow-object-detection-api) (2.0.0)\n",
      "Requirement already satisfied: zipp>=0.5 in c:\\users\\moham\\appdata\\roaming\\python\\python37\\site-packages (from importlib-metadata<4->ipykernel->jupyter->tensorflow-object-detection-api) (3.4.0)\n",
      "Requirement already satisfied: backcall in c:\\users\\moham\\appdata\\roaming\\python\\python37\\site-packages (from ipython>=7.23.1->ipykernel->jupyter->tensorflow-object-detection-api) (0.2.0)\n",
      "Requirement already satisfied: prompt-toolkit!=3.0.0,!=3.0.1,<3.1.0,>=2.0.0 in c:\\users\\moham\\appdata\\roaming\\python\\python37\\site-packages (from ipython>=7.23.1->ipykernel->jupyter->tensorflow-object-detection-api) (3.0.19)\n",
      "Requirement already satisfied: jedi>=0.16 in c:\\users\\moham\\appdata\\roaming\\python\\python37\\site-packages (from ipython>=7.23.1->ipykernel->jupyter->tensorflow-object-detection-api) (0.18.0)\n",
      "Requirement already satisfied: colorama in c:\\users\\moham\\appdata\\roaming\\python\\python37\\site-packages (from ipython>=7.23.1->ipykernel->jupyter->tensorflow-object-detection-api) (0.4.3)\n",
      "Requirement already satisfied: pygments in c:\\users\\moham\\appdata\\roaming\\python\\python37\\site-packages (from ipython>=7.23.1->ipykernel->jupyter->tensorflow-object-detection-api) (2.9.0)\n",
      "Requirement already satisfied: decorator in c:\\users\\moham\\appdata\\roaming\\python\\python37\\site-packages (from ipython>=7.23.1->ipykernel->jupyter->tensorflow-object-detection-api) (5.0.9)\n",
      "Requirement already satisfied: matplotlib-inline in c:\\users\\moham\\appdata\\roaming\\python\\python37\\site-packages (from ipython>=7.23.1->ipykernel->jupyter->tensorflow-object-detection-api) (0.1.2)\n",
      "Requirement already satisfied: pickleshare in c:\\users\\moham\\appdata\\roaming\\python\\python37\\site-packages (from ipython>=7.23.1->ipykernel->jupyter->tensorflow-object-detection-api) (0.7.5)\n",
      "Requirement already satisfied: setuptools>=18.5 in c:\\users\\moham\\.conda\\envs\\tensorflow\\lib\\site-packages (from ipython>=7.23.1->ipykernel->jupyter->tensorflow-object-detection-api) (52.0.0.post20210125)\n",
      "Requirement already satisfied: parso<0.9.0,>=0.8.0 in c:\\users\\moham\\appdata\\roaming\\python\\python37\\site-packages (from jedi>=0.16->ipython>=7.23.1->ipykernel->jupyter->tensorflow-object-detection-api) (0.8.2)\n",
      "Requirement already satisfied: wcwidth in c:\\users\\moham\\appdata\\roaming\\python\\python37\\site-packages (from prompt-toolkit!=3.0.0,!=3.0.1,<3.1.0,>=2.0.0->ipython>=7.23.1->ipykernel->jupyter->tensorflow-object-detection-api) (0.2.5)\n",
      "Requirement already satisfied: ipython-genutils in c:\\users\\moham\\appdata\\roaming\\python\\python37\\site-packages (from traitlets>=4.1.0->ipykernel->jupyter->tensorflow-object-detection-api) (0.2.0)\n",
      "Collecting jupyterlab-widgets>=1.0.0\n",
      "  Downloading jupyterlab_widgets-1.0.0-py3-none-any.whl (243 kB)\n",
      "Requirement already satisfied: nbformat>=4.2.0 in c:\\users\\moham\\appdata\\roaming\\python\\python37\\site-packages (from ipywidgets->jupyter->tensorflow-object-detection-api) (5.1.3)\n",
      "Collecting widgetsnbextension~=3.5.0\n",
      "  Downloading widgetsnbextension-3.5.1-py2.py3-none-any.whl (2.2 MB)\n",
      "Requirement already satisfied: jupyter-core in c:\\users\\moham\\appdata\\roaming\\python\\python37\\site-packages (from nbformat>=4.2.0->ipywidgets->jupyter->tensorflow-object-detection-api) (4.7.1)\n",
      "Requirement already satisfied: jsonschema!=2.5.0,>=2.4 in c:\\users\\moham\\appdata\\roaming\\python\\python37\\site-packages (from nbformat>=4.2.0->ipywidgets->jupyter->tensorflow-object-detection-api) (3.2.0)\n",
      "Requirement already satisfied: pyrsistent>=0.14.0 in c:\\users\\moham\\appdata\\roaming\\python\\python37\\site-packages (from jsonschema!=2.5.0,>=2.4->nbformat>=4.2.0->ipywidgets->jupyter->tensorflow-object-detection-api) (0.18.0)\n",
      "Requirement already satisfied: six>=1.11.0 in c:\\users\\moham\\appdata\\roaming\\python\\python37\\site-packages (from jsonschema!=2.5.0,>=2.4->nbformat>=4.2.0->ipywidgets->jupyter->tensorflow-object-detection-api) (1.15.0)\n",
      "Requirement already satisfied: attrs>=17.4.0 in c:\\users\\moham\\appdata\\roaming\\python\\python37\\site-packages (from jsonschema!=2.5.0,>=2.4->nbformat>=4.2.0->ipywidgets->jupyter->tensorflow-object-detection-api) (20.3.0)\n",
      "Requirement already satisfied: pyzmq>=17 in c:\\users\\moham\\appdata\\roaming\\python\\python37\\site-packages (from notebook->jupyter->tensorflow-object-detection-api) (22.1.0)\n",
      "Requirement already satisfied: terminado>=0.8.3 in c:\\users\\moham\\appdata\\roaming\\python\\python37\\site-packages (from notebook->jupyter->tensorflow-object-detection-api) (0.10.1)\n",
      "Requirement already satisfied: argon2-cffi in c:\\users\\moham\\appdata\\roaming\\python\\python37\\site-packages (from notebook->jupyter->tensorflow-object-detection-api) (20.1.0)\n",
      "Requirement already satisfied: Send2Trash>=1.5.0 in c:\\users\\moham\\appdata\\roaming\\python\\python37\\site-packages (from notebook->jupyter->tensorflow-object-detection-api) (1.7.1)\n",
      "Requirement already satisfied: prometheus-client in c:\\users\\moham\\appdata\\roaming\\python\\python37\\site-packages (from notebook->jupyter->tensorflow-object-detection-api) (0.11.0)\n",
      "Requirement already satisfied: jinja2 in c:\\users\\moham\\appdata\\roaming\\python\\python37\\site-packages (from notebook->jupyter->tensorflow-object-detection-api) (2.11.2)\n",
      "Requirement already satisfied: python-dateutil>=2.1 in c:\\users\\moham\\appdata\\roaming\\python\\python37\\site-packages (from jupyter-client->ipykernel->jupyter->tensorflow-object-detection-api) (2.8.1)\n",
      "Requirement already satisfied: pywin32>=1.0 in c:\\users\\moham\\appdata\\roaming\\python\\python37\\site-packages (from jupyter-core->nbformat>=4.2.0->ipywidgets->jupyter->tensorflow-object-detection-api) (228)\n",
      "Requirement already satisfied: pywinpty>=1.1.0 in c:\\users\\moham\\appdata\\roaming\\python\\python37\\site-packages (from terminado>=0.8.3->notebook->jupyter->tensorflow-object-detection-api) (1.1.3)\n",
      "Requirement already satisfied: cffi>=1.0.0 in c:\\users\\moham\\appdata\\roaming\\python\\python37\\site-packages (from argon2-cffi->notebook->jupyter->tensorflow-object-detection-api) (1.14.5)\n",
      "Requirement already satisfied: pycparser in c:\\users\\moham\\appdata\\roaming\\python\\python37\\site-packages (from cffi>=1.0.0->argon2-cffi->notebook->jupyter->tensorflow-object-detection-api) (2.20)\n",
      "Requirement already satisfied: MarkupSafe>=0.23 in c:\\users\\moham\\appdata\\roaming\\python\\python37\\site-packages (from jinja2->notebook->jupyter->tensorflow-object-detection-api) (1.1.1)\n",
      "Requirement already satisfied: numpy>=1.16 in c:\\users\\moham\\appdata\\roaming\\python\\python37\\site-packages (from Matplotlib>=2.1->tensorflow-object-detection-api) (1.19.1)\n",
      "Collecting kiwisolver>=1.0.1\n",
      "  Downloading kiwisolver-1.3.1-cp37-cp37m-win_amd64.whl (51 kB)\n",
      "Requirement already satisfied: pyparsing>=2.2.1 in c:\\users\\moham\\appdata\\roaming\\python\\python37\\site-packages (from Matplotlib>=2.1->tensorflow-object-detection-api) (2.4.7)\n",
      "Collecting cycler>=0.10\n",
      "  Downloading cycler-0.10.0-py2.py3-none-any.whl (6.5 kB)\n",
      "Requirement already satisfied: mistune<2,>=0.8.1 in c:\\users\\moham\\appdata\\roaming\\python\\python37\\site-packages (from nbconvert->jupyter->tensorflow-object-detection-api) (0.8.4)\n",
      "Requirement already satisfied: jupyterlab-pygments in c:\\users\\moham\\appdata\\roaming\\python\\python37\\site-packages (from nbconvert->jupyter->tensorflow-object-detection-api) (0.1.2)\n",
      "Requirement already satisfied: entrypoints>=0.2.2 in c:\\users\\moham\\appdata\\roaming\\python\\python37\\site-packages (from nbconvert->jupyter->tensorflow-object-detection-api) (0.3)\n",
      "Requirement already satisfied: testpath in c:\\users\\moham\\appdata\\roaming\\python\\python37\\site-packages (from nbconvert->jupyter->tensorflow-object-detection-api) (0.5.0)\n",
      "Requirement already satisfied: defusedxml in c:\\users\\moham\\appdata\\roaming\\python\\python37\\site-packages (from nbconvert->jupyter->tensorflow-object-detection-api) (0.7.1)\n",
      "Requirement already satisfied: pandocfilters>=1.4.1 in c:\\users\\moham\\appdata\\roaming\\python\\python37\\site-packages (from nbconvert->jupyter->tensorflow-object-detection-api) (1.4.3)\n",
      "Requirement already satisfied: nbclient<0.6.0,>=0.5.0 in c:\\users\\moham\\appdata\\roaming\\python\\python37\\site-packages (from nbconvert->jupyter->tensorflow-object-detection-api) (0.5.3)\n",
      "Requirement already satisfied: bleach in c:\\users\\moham\\appdata\\roaming\\python\\python37\\site-packages (from nbconvert->jupyter->tensorflow-object-detection-api) (3.3.0)\n",
      "Requirement already satisfied: nest-asyncio in c:\\users\\moham\\appdata\\roaming\\python\\python37\\site-packages (from nbclient<0.6.0,>=0.5.0->nbconvert->jupyter->tensorflow-object-detection-api) (1.5.1)\n",
      "Requirement already satisfied: async-generator in c:\\users\\moham\\appdata\\roaming\\python\\python37\\site-packages (from nbclient<0.6.0,>=0.5.0->nbconvert->jupyter->tensorflow-object-detection-api) (1.10)\n",
      "Requirement already satisfied: webencodings in c:\\users\\moham\\appdata\\roaming\\python\\python37\\site-packages (from bleach->nbconvert->jupyter->tensorflow-object-detection-api) (0.5.1)\n",
      "Requirement already satisfied: packaging in c:\\users\\moham\\appdata\\roaming\\python\\python37\\site-packages (from bleach->nbconvert->jupyter->tensorflow-object-detection-api) (20.4)\n",
      "Collecting qtpy\n",
      "  Downloading QtPy-1.9.0-py2.py3-none-any.whl (54 kB)\n",
      "Requirement already satisfied: astor>=0.6.0 in c:\\users\\moham\\.conda\\envs\\tensorflow\\lib\\site-packages (from tensorflow->tensorflow-object-detection-api) (0.8.1)\n",
      "Collecting tensorboard<2.2.0,>=2.1.0\n",
      "  Downloading tensorboard-2.1.1-py3-none-any.whl (3.8 MB)\n",
      "Collecting scipy==1.4.1\n",
      "  Downloading scipy-1.4.1-cp37-cp37m-win_amd64.whl (30.9 MB)\n",
      "Requirement already satisfied: google-pasta>=0.1.6 in c:\\users\\moham\\.conda\\envs\\tensorflow\\lib\\site-packages (from tensorflow->tensorflow-object-detection-api) (0.2.0)\n",
      "Collecting tensorflow-estimator<2.2.0,>=2.1.0rc0\n",
      "  Downloading tensorflow_estimator-2.1.0-py2.py3-none-any.whl (448 kB)\n",
      "Requirement already satisfied: keras-preprocessing>=1.1.0 in c:\\users\\moham\\.conda\\envs\\tensorflow\\lib\\site-packages (from tensorflow->tensorflow-object-detection-api) (1.1.2)\n",
      "Requirement already satisfied: termcolor>=1.1.0 in c:\\users\\moham\\.conda\\envs\\tensorflow\\lib\\site-packages (from tensorflow->tensorflow-object-detection-api) (1.1.0)\n",
      "Requirement already satisfied: wrapt>=1.11.1 in c:\\users\\moham\\.conda\\envs\\tensorflow\\lib\\site-packages (from tensorflow->tensorflow-object-detection-api) (1.12.1)\n",
      "Requirement already satisfied: keras-applications>=1.0.8 in c:\\users\\moham\\.conda\\envs\\tensorflow\\lib\\site-packages (from tensorflow->tensorflow-object-detection-api) (1.0.8)\n",
      "Requirement already satisfied: opt-einsum>=2.3.2 in c:\\users\\moham\\.conda\\envs\\tensorflow\\lib\\site-packages (from tensorflow->tensorflow-object-detection-api) (3.3.0)\n",
      "Requirement already satisfied: grpcio>=1.8.6 in c:\\users\\moham\\.conda\\envs\\tensorflow\\lib\\site-packages (from tensorflow->tensorflow-object-detection-api) (1.36.1)\n",
      "Requirement already satisfied: gast==0.2.2 in c:\\users\\moham\\.conda\\envs\\tensorflow\\lib\\site-packages (from tensorflow->tensorflow-object-detection-api) (0.2.2)\n",
      "Requirement already satisfied: absl-py>=0.7.0 in c:\\users\\moham\\.conda\\envs\\tensorflow\\lib\\site-packages (from tensorflow->tensorflow-object-detection-api) (0.13.0)\n",
      "Requirement already satisfied: h5py in c:\\users\\moham\\.conda\\envs\\tensorflow\\lib\\site-packages (from keras-applications>=1.0.8->tensorflow->tensorflow-object-detection-api) (2.8.0)\n",
      "Requirement already satisfied: werkzeug>=0.11.15 in c:\\users\\moham\\appdata\\roaming\\python\\python37\\site-packages (from tensorboard<2.2.0,>=2.1.0->tensorflow->tensorflow-object-detection-api) (1.0.1)\n",
      "Requirement already satisfied: google-auth-oauthlib<0.5,>=0.4.1 in c:\\users\\moham\\.conda\\envs\\tensorflow\\lib\\site-packages (from tensorboard<2.2.0,>=2.1.0->tensorflow->tensorflow-object-detection-api) (0.4.4)\n",
      "Requirement already satisfied: markdown>=2.6.8 in c:\\users\\moham\\.conda\\envs\\tensorflow\\lib\\site-packages (from tensorboard<2.2.0,>=2.1.0->tensorflow->tensorflow-object-detection-api) (3.3.4)\n",
      "Requirement already satisfied: requests<3,>=2.21.0 in c:\\users\\moham\\appdata\\roaming\\python\\python37\\site-packages (from tensorboard<2.2.0,>=2.1.0->tensorflow->tensorflow-object-detection-api) (2.24.0)\n",
      "Requirement already satisfied: google-auth<2,>=1.6.3 in c:\\users\\moham\\.conda\\envs\\tensorflow\\lib\\site-packages (from tensorboard<2.2.0,>=2.1.0->tensorflow->tensorflow-object-detection-api) (1.33.0)\n",
      "Requirement already satisfied: pyasn1-modules>=0.2.1 in c:\\users\\moham\\.conda\\envs\\tensorflow\\lib\\site-packages (from google-auth<2,>=1.6.3->tensorboard<2.2.0,>=2.1.0->tensorflow->tensorflow-object-detection-api) (0.2.8)\n",
      "Requirement already satisfied: cachetools<5.0,>=2.0.0 in c:\\users\\moham\\.conda\\envs\\tensorflow\\lib\\site-packages (from google-auth<2,>=1.6.3->tensorboard<2.2.0,>=2.1.0->tensorflow->tensorflow-object-detection-api) (4.2.2)\n",
      "Requirement already satisfied: rsa<5,>=3.1.4 in c:\\users\\moham\\.conda\\envs\\tensorflow\\lib\\site-packages (from google-auth<2,>=1.6.3->tensorboard<2.2.0,>=2.1.0->tensorflow->tensorflow-object-detection-api) (4.7.2)\n",
      "Requirement already satisfied: requests-oauthlib>=0.7.0 in c:\\users\\moham\\.conda\\envs\\tensorflow\\lib\\site-packages (from google-auth-oauthlib<0.5,>=0.4.1->tensorboard<2.2.0,>=2.1.0->tensorflow->tensorflow-object-detection-api) (1.3.0)\n",
      "Requirement already satisfied: pyasn1<0.5.0,>=0.4.6 in c:\\users\\moham\\.conda\\envs\\tensorflow\\lib\\site-packages (from pyasn1-modules>=0.2.1->google-auth<2,>=1.6.3->tensorboard<2.2.0,>=2.1.0->tensorflow->tensorflow-object-detection-api) (0.4.8)\n",
      "Requirement already satisfied: chardet<4,>=3.0.2 in c:\\users\\moham\\appdata\\roaming\\python\\python37\\site-packages (from requests<3,>=2.21.0->tensorboard<2.2.0,>=2.1.0->tensorflow->tensorflow-object-detection-api) (3.0.4)\n",
      "Requirement already satisfied: certifi>=2017.4.17 in c:\\users\\moham\\appdata\\roaming\\python\\python37\\site-packages (from requests<3,>=2.21.0->tensorboard<2.2.0,>=2.1.0->tensorflow->tensorflow-object-detection-api) (2020.6.20)\n",
      "Requirement already satisfied: idna<3,>=2.5 in c:\\users\\moham\\appdata\\roaming\\python\\python37\\site-packages (from requests<3,>=2.21.0->tensorboard<2.2.0,>=2.1.0->tensorflow->tensorflow-object-detection-api) (2.10)\n",
      "Requirement already satisfied: urllib3!=1.25.0,!=1.25.1,<1.26,>=1.21.1 in c:\\users\\moham\\appdata\\roaming\\python\\python37\\site-packages (from requests<3,>=2.21.0->tensorboard<2.2.0,>=2.1.0->tensorflow->tensorflow-object-detection-api) (1.25.9)\n",
      "Requirement already satisfied: oauthlib>=3.0.0 in c:\\users\\moham\\.conda\\envs\\tensorflow\\lib\\site-packages (from requests-oauthlib>=0.7.0->google-auth-oauthlib<0.5,>=0.4.1->tensorboard<2.2.0,>=2.1.0->tensorflow->tensorflow-object-detection-api) (3.1.1)\n",
      "Collecting readme-renderer>=21.0\n",
      "  Using cached readme_renderer-29.0-py2.py3-none-any.whl (15 kB)\n",
      "Collecting keyring>=15.1\n",
      "  Downloading keyring-23.0.1-py3-none-any.whl (33 kB)\n",
      "Collecting tqdm>=4.14\n",
      "  Downloading tqdm-4.61.2-py2.py3-none-any.whl (76 kB)\n",
      "Collecting importlib-metadata<4\n",
      "  Downloading importlib_metadata-3.10.1-py3-none-any.whl (14 kB)\n",
      "Collecting requests-toolbelt!=0.9.0,>=0.8.0\n",
      "  Using cached requests_toolbelt-0.9.1-py2.py3-none-any.whl (54 kB)\n",
      "Collecting pkginfo>=1.4.2\n",
      "  Downloading pkginfo-1.7.1-py2.py3-none-any.whl (25 kB)\n",
      "Collecting rfc3986>=1.4.0\n",
      "  Using cached rfc3986-1.5.0-py2.py3-none-any.whl (31 kB)\n",
      "Requirement already satisfied: typing-extensions>=3.6.4 in c:\\users\\moham\\appdata\\roaming\\python\\python37\\site-packages (from importlib-metadata<4->ipykernel->jupyter->tensorflow-object-detection-api) (3.10.0.0)\n",
      "Collecting pywin32-ctypes!=0.1.0,!=0.1.1\n",
      "  Downloading pywin32_ctypes-0.2.0-py2.py3-none-any.whl (28 kB)\n",
      "Collecting docutils>=0.13.1\n",
      "  Downloading docutils-0.17.1-py2.py3-none-any.whl (575 kB)\n",
      "Building wheels for collected packages: tensorflow-object-detection-api\n",
      "  Building wheel for tensorflow-object-detection-api (setup.py): started\n",
      "  Building wheel for tensorflow-object-detection-api (setup.py): finished with status 'done'\n",
      "  Created wheel for tensorflow-object-detection-api: filename=tensorflow_object_detection_api-0.1.1-py3-none-any.whl size=844513 sha256=71cad0282e27ec5f10bc80e1a33dbad9ba11156ce9f86c5da60e6e02a982e29e\n",
      "  Stored in directory: c:\\users\\moham\\appdata\\local\\pip\\cache\\wheels\\71\\7e\\a2\\461ab817fbaef68ec9cc60df16d3669d1285f032e4c98179bf\n",
      "Successfully built tensorflow-object-detection-api\n",
      "Installing collected packages: importlib-metadata, widgetsnbextension, qtpy, pywin32-ctypes, jupyterlab-widgets, docutils, tqdm, tensorflow-estimator, tensorboard, scipy, rfc3986, requests-toolbelt, readme-renderer, qtconsole, pkginfo, kiwisolver, keyring, jupyter-console, ipywidgets, cycler, twine, Matplotlib, lxml, jupyter, contextlib2, tensorflow-object-detection-api\n",
      "  Attempting uninstall: importlib-metadata\n",
      "    Found existing installation: importlib-metadata 2.0.0\n",
      "    Uninstalling importlib-metadata-2.0.0:\n",
      "      Successfully uninstalled importlib-metadata-2.0.0\n",
      "  Attempting uninstall: tensorflow-estimator\n",
      "    Found existing installation: tensorflow-estimator 2.5.0\n",
      "    Uninstalling tensorflow-estimator-2.5.0:\n",
      "      Successfully uninstalled tensorflow-estimator-2.5.0\n",
      "  Attempting uninstall: tensorboard\n",
      "    Found existing installation: tensorboard 2.4.0\n",
      "    Uninstalling tensorboard-2.4.0:\n",
      "      Successfully uninstalled tensorboard-2.4.0\n",
      "  Attempting uninstall: scipy\n",
      "    Found existing installation: scipy 1.6.2\n",
      "    Uninstalling scipy-1.6.2:\n",
      "      Successfully uninstalled scipy-1.6.2\n",
      "Successfully installed Matplotlib-3.4.2 contextlib2-21.6.0 cycler-0.10.0 docutils-0.17.1 importlib-metadata-3.10.1 ipywidgets-7.6.3 jupyter-1.0.0 jupyter-console-6.4.0 jupyterlab-widgets-1.0.0 keyring-23.0.1 kiwisolver-1.3.1 lxml-4.6.3 pkginfo-1.7.1 pywin32-ctypes-0.2.0 qtconsole-5.1.1 qtpy-1.9.0 readme-renderer-29.0 requests-toolbelt-0.9.1 rfc3986-1.5.0 scipy-1.4.1 tensorboard-2.1.1 tensorflow-estimator-2.1.0 tensorflow-object-detection-api-0.1.1 tqdm-4.61.2 twine-3.4.2 widgetsnbextension-3.5.1\n",
      "Note: you may need to restart the kernel to use updated packages.\n"
     ]
    }
   ],
   "source": [
    "pip install tensorflow-object-detection-api"
   ]
  },
  {
   "cell_type": "code",
   "execution_count": 8,
   "metadata": {
    "scrolled": true
   },
   "outputs": [
    {
     "name": "stdout",
     "output_type": "stream",
     "text": [
      "Successfully created the TFRecord file: Tensorflow/workspace/annotations/train.record\n",
      "Successfully created the TFRecord file: Tensorflow/workspace/annotations/test.record\n"
     ]
    }
   ],
   "source": [
    "!python {SCRIPTS_PATH + '/generate_tfrecord.py'} -x {IMAGE_PATH + '/train'} -l {ANNOTATION_PATH + '/label_map.pbtxt'} -o {ANNOTATION_PATH + '/train.record'}\n",
    "!python {SCRIPTS_PATH + '/generate_tfrecord.py'} -x{IMAGE_PATH + '/test'} -l {ANNOTATION_PATH + '/label_map.pbtxt'} -o {ANNOTATION_PATH + '/test.record'}"
   ]
  },
  {
   "cell_type": "markdown",
   "metadata": {},
   "source": [
    "# 3. Download TF Models Pretrained Models from Tensorflow Model Zoo"
   ]
  },
  {
   "cell_type": "code",
   "execution_count": 1,
   "metadata": {},
   "outputs": [
    {
     "name": "stderr",
     "output_type": "stream",
     "text": [
      "fatal: destination path 'models' already exists and is not an empty directory.\n"
     ]
    }
   ],
   "source": [
    "!cd Tensorflow && git clone https://github.com/tensorflow/models"
   ]
  },
  {
   "cell_type": "code",
   "execution_count": 4,
   "metadata": {},
   "outputs": [],
   "source": [
    "#wget.download('http://download.tensorflow.org/models/object_detection/tf2/20200711/ssd_mobilenet_v2_fpnlite_320x320_coco17_tpu-8.tar.gz')\n",
    "#!mv ssd_mobilenet_v2_fpnlite_320x320_coco17_tpu-8.tar.gz {PRETRAINED_MODEL_PATH}\n",
    "#!cd {PRETRAINED_MODEL_PATH} && tar -zxvf ssd_mobilenet_v2_fpnlite_320x320_coco17_tpu-8.tar.gz"
   ]
  },
  {
   "cell_type": "markdown",
   "metadata": {},
   "source": [
    "# 4. Copy Model Config to Training Folder"
   ]
  },
  {
   "cell_type": "code",
   "execution_count": 4,
   "metadata": {},
   "outputs": [],
   "source": [
    "CUSTOM_MODEL_NAME = 'my_ssd_mobnet' "
   ]
  },
  {
   "cell_type": "code",
   "execution_count": 5,
   "metadata": {},
   "outputs": [
    {
     "name": "stderr",
     "output_type": "stream",
     "text": [
      "A subdirectory or file Tensorflow\\workspace\\models\\my_ssd_mobnet already exists.\n"
     ]
    },
    {
     "name": "stdout",
     "output_type": "stream",
     "text": [
      "The system cannot find the file specified.\n"
     ]
    }
   ],
   "source": [
    "!mkdir {'Tensorflow\\workspace\\models\\\\'+CUSTOM_MODEL_NAME}\n",
    "!copy {PRETRAINED_MODEL_PATH+'/ssd_mobilenet_v2_fpnlite_320x320_coco17_tpu-8/pipeline.config'} {MODEL_PATH+'/'+CUSTOM_MODEL_NAME}"
   ]
  },
  {
   "cell_type": "markdown",
   "metadata": {},
   "source": [
    "# 5. Update Config For Transfer Learning"
   ]
  },
  {
   "cell_type": "code",
   "execution_count": 2,
   "metadata": {},
   "outputs": [],
   "source": [
    "import tensorflow as tf\n",
    "from object_detection.utils import config_util\n",
    "from object_detection.protos import pipeline_pb2\n",
    "from google.protobuf import text_format"
   ]
  },
  {
   "cell_type": "code",
   "execution_count": 1,
   "metadata": {},
   "outputs": [],
   "source": [
    "CONFIG_PATH = 'Users\\moham\\Documents\\RealTimeObjectDetection\\Tensorflow\\workspace\\models\\my_ssd_mobnet'"
   ]
  },
  {
   "cell_type": "code",
   "execution_count": 10,
   "metadata": {},
   "outputs": [
    {
     "ename": "NameError",
     "evalue": "name 'config_util' is not defined",
     "output_type": "error",
     "traceback": [
      "\u001b[1;31m---------------------------------------------------------------------------\u001b[0m",
      "\u001b[1;31mNameError\u001b[0m                                 Traceback (most recent call last)",
      "\u001b[1;32m~\\AppData\\Local\\Temp/ipykernel_16844/2792951555.py\u001b[0m in \u001b[0;36m<module>\u001b[1;34m\u001b[0m\n\u001b[1;32m----> 1\u001b[1;33m \u001b[0mconfig\u001b[0m \u001b[1;33m=\u001b[0m \u001b[0mconfig_util\u001b[0m\u001b[1;33m.\u001b[0m\u001b[0mget_configs_from_pipeline_file\u001b[0m\u001b[1;33m(\u001b[0m\u001b[0mCONFIG_PATH\u001b[0m\u001b[1;33m)\u001b[0m\u001b[1;33m\u001b[0m\u001b[1;33m\u001b[0m\u001b[0m\n\u001b[0m",
      "\u001b[1;31mNameError\u001b[0m: name 'config_util' is not defined"
     ]
    }
   ],
   "source": [
    "config = config_util.get_configs_from_pipeline_file(CONFIG_PATH)"
   ]
  },
  {
   "cell_type": "code",
   "execution_count": 11,
   "metadata": {},
   "outputs": [
    {
     "data": {
      "text/plain": [
       "'Users\\\\moham\\\\Documents\\\\RealTimeObjectDetection\\\\Tensorflow\\\\workspace\\\\models\\\\my_ssd_mobnet'"
      ]
     },
     "execution_count": 11,
     "metadata": {},
     "output_type": "execute_result"
    }
   ],
   "source": [
    "config"
   ]
  },
  {
   "cell_type": "code",
   "execution_count": 52,
   "metadata": {},
   "outputs": [],
   "source": [
    "pipeline_config = pipeline_pb2.TrainEvalPipelineConfig()\n",
    "with tf.io.gfile.GFile(CONFIG_PATH, \"r\") as f:                                                                                                                                                                                                                     \n",
    "    proto_str = f.read()                                                                                                                                                                                                                                          \n",
    "    text_format.Merge(proto_str, pipeline_config)  "
   ]
  },
  {
   "cell_type": "code",
   "execution_count": 53,
   "metadata": {},
   "outputs": [],
   "source": [
    "pipeline_config.model.ssd.num_classes = 2\n",
    "pipeline_config.train_config.batch_size = 4\n",
    "pipeline_config.train_config.fine_tune_checkpoint = PRETRAINED_MODEL_PATH+'/ssd_mobilenet_v2_fpnlite_320x320_coco17_tpu-8/checkpoint/ckpt-0'\n",
    "pipeline_config.train_config.fine_tune_checkpoint_type = \"detection\"\n",
    "pipeline_config.train_input_reader.label_map_path= ANNOTATION_PATH + '/label_map.pbtxt'\n",
    "pipeline_config.train_input_reader.tf_record_input_reader.input_path[:] = [ANNOTATION_PATH + '/train.record']\n",
    "pipeline_config.eval_input_reader[0].label_map_path = ANNOTATION_PATH + '/label_map.pbtxt'\n",
    "pipeline_config.eval_input_reader[0].tf_record_input_reader.input_path[:] = [ANNOTATION_PATH + '/test.record']"
   ]
  },
  {
   "cell_type": "code",
   "execution_count": 54,
   "metadata": {},
   "outputs": [],
   "source": [
    "config_text = text_format.MessageToString(pipeline_config)                                                                                                                                                                                                        \n",
    "with tf.io.gfile.GFile(CONFIG_PATH, \"wb\") as f:                                                                                                                                                                                                                     \n",
    "    f.write(config_text)   "
   ]
  },
  {
   "cell_type": "markdown",
   "metadata": {},
   "source": [
    "# 6. Train the model"
   ]
  },
  {
   "cell_type": "code",
   "execution_count": 58,
   "metadata": {},
   "outputs": [
    {
     "name": "stdout",
     "output_type": "stream",
     "text": [
      "python Tensorflow/models/research/object_detection/model_main_tf2.py --model_dir=Tensorflow/workspace/models/my_ssd_mobnet --pipeline_config_path=Tensorflow/workspace/models/my_ssd_mobnet/pipeline.config --num_train_steps=5000\n"
     ]
    }
   ],
   "source": [
    "print(\"\"\"python {}/research/object_detection/model_main_tf2.py --model_dir={}/{} --pipeline_config_path={}/{}/pipeline.config --num_train_steps=5000\"\"\".format(APIMODEL_PATH, MODEL_PATH,CUSTOM_MODEL_NAME,MODEL_PATH,CUSTOM_MODEL_NAME))"
   ]
  },
  {
   "cell_type": "markdown",
   "metadata": {},
   "source": [
    "# 7. Load Train Model From Checkpoint"
   ]
  },
  {
   "cell_type": "code",
   "execution_count": 2,
   "metadata": {},
   "outputs": [],
   "source": [
    "import os\n",
    "from object_detection.utils import label_map_util\n",
    "from object_detection.utils import visualization_utils as viz_utils\n",
    "from object_detection.builders import model_builder"
   ]
  },
  {
   "cell_type": "code",
   "execution_count": 9,
   "metadata": {},
   "outputs": [],
   "source": [
    "# Load pipeline config and build a detection model\n",
    "configs = config_util.get_configs_from_pipeline_file(CONFIG_PATH)\n",
    "detection_model = model_builder.build(model_config=configs['model'], is_training=False)\n",
    "\n",
    "# Restore checkpoint\n",
    "ckpt = tf.compat.v2.train.Checkpoint(model=detection_model)\n",
    "ckpt.restore(os.path.join(CHECKPOINT_PATH, 'ckpt-6')).expect_partial()\n",
    "\n",
    "@tf.function\n",
    "def detect_fn(image):\n",
    "    image, shapes = detection_model.preprocess(image)\n",
    "    prediction_dict = detection_model.predict(image, shapes)\n",
    "    detections = detection_model.postprocess(prediction_dict, shapes)\n",
    "    return detections"
   ]
  },
  {
   "cell_type": "markdown",
   "metadata": {},
   "source": [
    "# 8. Detect in Real-Time"
   ]
  },
  {
   "cell_type": "code",
   "execution_count": 10,
   "metadata": {},
   "outputs": [],
   "source": [
    "import cv2 \n",
    "import numpy as np"
   ]
  },
  {
   "cell_type": "code",
   "execution_count": 11,
   "metadata": {},
   "outputs": [],
   "source": [
    "category_index = label_map_util.create_category_index_from_labelmap(ANNOTATION_PATH+'/label_map.pbtxt')"
   ]
  },
  {
   "cell_type": "code",
   "execution_count": 105,
   "metadata": {},
   "outputs": [],
   "source": [
    "cap.release()"
   ]
  },
  {
   "cell_type": "code",
   "execution_count": 12,
   "metadata": {},
   "outputs": [],
   "source": [
    "# Setup capture\n",
    "cap = cv2.VideoCapture(0)\n",
    "width = int(cap.get(cv2.CAP_PROP_FRAME_WIDTH))\n",
    "height = int(cap.get(cv2.CAP_PROP_FRAME_HEIGHT))"
   ]
  },
  {
   "cell_type": "code",
   "execution_count": null,
   "metadata": {},
   "outputs": [],
   "source": [
    "while True: \n",
    "    ret, frame = cap.read()\n",
    "    image_np = np.array(frame)\n",
    "    \n",
    "    input_tensor = tf.convert_to_tensor(np.expand_dims(image_np, 0), dtype=tf.float32)\n",
    "    detections = detect_fn(input_tensor)\n",
    "    \n",
    "    num_detections = int(detections.pop('num_detections'))\n",
    "    detections = {key: value[0, :num_detections].numpy()\n",
    "                  for key, value in detections.items()}\n",
    "    detections['num_detections'] = num_detections\n",
    "\n",
    "    # detection_classes should be ints.\n",
    "    detections['detection_classes'] = detections['detection_classes'].astype(np.int64)\n",
    "\n",
    "    label_id_offset = 1\n",
    "    image_np_with_detections = image_np.copy()\n",
    "\n",
    "    viz_utils.visualize_boxes_and_labels_on_image_array(\n",
    "                image_np_with_detections,\n",
    "                detections['detection_boxes'],\n",
    "                detections['detection_classes']+label_id_offset,\n",
    "                detections['detection_scores'],\n",
    "                category_index,\n",
    "                use_normalized_coordinates=True,\n",
    "                max_boxes_to_draw=5,\n",
    "                min_score_thresh=.5,\n",
    "                agnostic_mode=False)\n",
    "\n",
    "    cv2.imshow('object detection',  cv2.resize(image_np_with_detections, (800, 600)))\n",
    "    \n",
    "    if cv2.waitKey(1) & 0xFF == ord('q'):\n",
    "        cap.release()\n",
    "        break"
   ]
  },
  {
   "cell_type": "code",
   "execution_count": 42,
   "metadata": {},
   "outputs": [],
   "source": [
    "detections = detect_fn(input_tensor)"
   ]
  },
  {
   "cell_type": "code",
   "execution_count": 67,
   "metadata": {},
   "outputs": [],
   "source": [
    "from matplotlib import pyplot as plt"
   ]
  },
  {
   "cell_type": "code",
   "execution_count": null,
   "metadata": {},
   "outputs": [],
   "source": []
  }
 ],
 "metadata": {
  "kernelspec": {
   "display_name": "Python 3",
   "language": "python",
   "name": "python3"
  },
  "language_info": {
   "codemirror_mode": {
    "name": "ipython",
    "version": 3
   },
   "file_extension": ".py",
   "mimetype": "text/x-python",
   "name": "python",
   "nbconvert_exporter": "python",
   "pygments_lexer": "ipython3",
   "version": "3.7.10"
  }
 },
 "nbformat": 4,
 "nbformat_minor": 2
}
